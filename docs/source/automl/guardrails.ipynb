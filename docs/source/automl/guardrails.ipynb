{
 "cells": [
  {
   "cell_type": "markdown",
   "metadata": {},
   "source": [
    "# Guardrails\n",
    "\n",
    "The ultimate goal of machine learning is to make accurate predictions on unseen data. One of the benefits of using EvalML to build models is that provides guardrails to ensure you are building pipelines that will perform reliably in the future.\n",
    "\n",
    "\n",
    "The guardrails described here help you avoid overfitting to your data and ultimately help you build a model that will perform as you expect once it is deployed in to the real world.\n",
    "\n",
    "\n",
    "## Cross-validation for pipeline evaluation\n",
    "\n",
    "By default, EvalML performs 3-fold cross validation when building pipelines. This means that it evaluates each pipeline 3 times using different for training and testing. In each trial the data used for testing is has no overlap from the data used for training to avoid overfitting.\n",
    "\n",
    "While this is a good baseline approach, you can pass your own cross validation object to be used during modeling. The cross validation object can be any of the CV methods defined in [scikit-learn](https://scikit-learn.org/stable/modules/cross_validation.html) or use a compatible API.\n",
    "\n",
    "For example, if we wanted to do a time series split:\n"
   ]
  },
  {
   "cell_type": "code",
   "execution_count": 1,
   "metadata": {},
   "outputs": [
    {
     "name": "stdout",
     "output_type": "stream",
     "text": [
      "\u001b[1m*****************************\u001b[0m\n",
      "\u001b[1m* Beginning pipeline search *\u001b[0m\n",
      "\u001b[1m*****************************\u001b[0m\n",
      "\n",
      "Optimizing for Precision. Greater score is better.\n",
      "\n",
      "Searching up to 1 pipelines. No time limit is set. Set one using max_time parameter.\n",
      "\n",
      "Possible model types: linear_model, random_forest, xgboost\n",
      "\n",
      "Testing LogisticRegression w/ imputation + scaling: 100%|██████████| 1/1 [00:02<00:00,  2.70s/it]\n",
      "\n",
      "✔ Optimization finished\n"
     ]
    }
   ],
   "source": [
    "import evalml\n",
    "\n",
    "from sklearn.model_selection import TimeSeriesSplit\n",
    "\n",
    "X, y = evalml.demos.load_breast_cancer()\n",
    "\n",
    "clf = evalml.AutoClassifier(\n",
    "    cv=TimeSeriesSplit(n_splits=6), \n",
    "    max_pipelines=1\n",
    ")\n",
    "\n",
    "clf.fit(X, y)"
   ]
  },
  {
   "cell_type": "markdown",
   "metadata": {},
   "source": [
    "if we describe the 1 pipeline we built, we can see the scores for each of the 6 splits as determined by the cross-validation object we provided"
   ]
  },
  {
   "cell_type": "code",
   "execution_count": 2,
   "metadata": {},
   "outputs": [
    {
     "name": "stdout",
     "output_type": "stream",
     "text": [
      "\u001b[1m************************\u001b[0m\n",
      "\u001b[1m* Pipeline Description *\u001b[0m\n",
      "\u001b[1m************************\u001b[0m\n",
      "\n",
      "Pipeline Name: LogisticRegression w/ imputation + scaling\n",
      "Model type: linear_model\n",
      "Objective: Precision (greater is better)\n",
      "Total training time (including CV): 2.7 seconds\n",
      "\n",
      "Parameters\n",
      "==========\n",
      "• penalty: l2\n",
      "• C: 8.444214828324364\n",
      "• impute_strategy: most_frequent\n",
      "\n",
      "Cross Validation\n",
      "=================\n",
      "               F1  Precision  Recall   AUC  Log Loss  # Training  # Testing\n",
      "0           0.942      0.942   0.942 0.973     0.195      83.000         81\n",
      "1           0.964      1.000   0.964 0.994     0.103     164.000         81\n",
      "2           0.981      0.981   0.981 0.988     0.147     245.000         81\n",
      "3           0.973      1.000   0.973 1.000     0.048     326.000         81\n",
      "4           0.984      1.000   0.984 0.998     0.099     407.000         81\n",
      "5           0.992      1.000   0.992 1.000     0.042     488.000         81\n",
      "mean        0.973      0.987   0.973 0.992     0.106     285.500         81\n",
      "std         0.018      0.023   0.018 0.010     0.058     151.537          0\n",
      "coef of var 0.018      0.024   0.018 0.010     0.553       0.531          0\n"
     ]
    }
   ],
   "source": [
    "clf.describe_pipeline(0)"
   ]
  },
  {
   "cell_type": "markdown",
   "metadata": {},
   "source": [
    "## Detects unstable pipelines\n",
    "\n",
    "When we perform cross validation we are trying generate an estimate of pipeline performance. EvalML does this by taking the mean of the score across the folds. If the performance across the folds varies greatly, it is indicative the the estimated value may be unreliable. \n",
    "\n",
    "To protect the user against this, EvalML check to see if performance of the pipeline has a high variance between different folds. It triggers a warning is the \"coeffient of variance\" of the scores (the standard deviation divided by mean) or the pipelines scores exeeds .2.\n",
    "\n",
    "This warning will appear in the pipeline rankings under `high_variance_cv`."
   ]
  },
  {
   "cell_type": "code",
   "execution_count": 5,
   "metadata": {},
   "outputs": [
    {
     "data": {
      "text/html": [
       "<div>\n",
       "<style scoped>\n",
       "    .dataframe tbody tr th:only-of-type {\n",
       "        vertical-align: middle;\n",
       "    }\n",
       "\n",
       "    .dataframe tbody tr th {\n",
       "        vertical-align: top;\n",
       "    }\n",
       "\n",
       "    .dataframe thead th {\n",
       "        text-align: right;\n",
       "    }\n",
       "</style>\n",
       "<table border=\"1\" class=\"dataframe\">\n",
       "  <thead>\n",
       "    <tr style=\"text-align: right;\">\n",
       "      <th></th>\n",
       "      <th>id</th>\n",
       "      <th>pipeline_name</th>\n",
       "      <th>score</th>\n",
       "      <th>high_variance_cv</th>\n",
       "      <th>parameters</th>\n",
       "    </tr>\n",
       "  </thead>\n",
       "  <tbody>\n",
       "    <tr>\n",
       "      <th>0</th>\n",
       "      <td>0</td>\n",
       "      <td>LogisticRegressionPipeline</td>\n",
       "      <td>0.987298</td>\n",
       "      <td>False</td>\n",
       "      <td>{'penalty': 'l2', 'C': 8.444214828324364, 'imp...</td>\n",
       "    </tr>\n",
       "  </tbody>\n",
       "</table>\n",
       "</div>"
      ],
      "text/plain": [
       "   id               pipeline_name     score  high_variance_cv  \\\n",
       "0   0  LogisticRegressionPipeline  0.987298             False   \n",
       "\n",
       "                                          parameters  \n",
       "0  {'penalty': 'l2', 'C': 8.444214828324364, 'imp...  "
      ]
     },
     "execution_count": 5,
     "metadata": {},
     "output_type": "execute_result"
    }
   ],
   "source": [
    "clf.rankings"
   ]
  }
 ],
 "metadata": {
  "kernelspec": {
   "display_name": "Python 3",
   "language": "python",
   "name": "python3"
  },
  "language_info": {
   "codemirror_mode": {
    "name": "ipython",
    "version": 3
   },
   "file_extension": ".py",
   "mimetype": "text/x-python",
   "name": "python",
   "nbconvert_exporter": "python",
   "pygments_lexer": "ipython3",
   "version": "3.6.8"
  }
 },
 "nbformat": 4,
 "nbformat_minor": 2
}
