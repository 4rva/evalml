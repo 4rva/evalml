{
 "cells": [
  {
   "cell_type": "markdown",
   "metadata": {},
   "source": [
    "# Regression Example"
   ]
  },
  {
   "cell_type": "code",
   "execution_count": 1,
   "metadata": {},
   "outputs": [
    {
     "name": "stdout",
     "output_type": "stream",
     "text": [
      "Generating pipelines to search over...\n",
      "*****************************\n",
      "* Beginning pipeline search *\n",
      "*****************************\n",
      "\n",
      "Optimizing for R2. \n",
      "Greater score is better.\n",
      "\n",
      "Searching up to 5 pipelines. \n",
      "Allowed model families: linear_model, catboost, random_forest, xgboost\n",
      "\n"
     ]
    },
    {
     "data": {
      "application/vnd.jupyter.widget-view+json": {
       "model_id": "a99361058f6f4665a550f49792f7652a",
       "version_major": 2,
       "version_minor": 0
      },
      "text/plain": [
       "FigureWidget({\n",
       "    'data': [{'mode': 'lines+markers',\n",
       "              'name': 'Best Score',\n",
       "              'type'…"
      ]
     },
     "metadata": {},
     "output_type": "display_data"
    },
    {
     "name": "stdout",
     "output_type": "stream",
     "text": [
      "(1/5) Mean Baseline Regression Pipeline        Elapsed:00:00\n",
      "\tStarting cross validation\n",
      "\tFinished cross validation - mean R2: -0.004\n",
      "(2/5) XGBoost Regressor w/ Simple Imputer      Elapsed:00:00\n",
      "\tStarting cross validation\n",
      "\tFinished cross validation - mean R2: 0.331\n",
      "(3/5) CatBoost Regressor w/ Simple Imputer     Elapsed:00:02\n",
      "\tStarting cross validation\n",
      "\tFinished cross validation - mean R2: 0.446\n",
      "(4/5) Random Forest Regressor w/ Simple Imp... Elapsed:00:08\n",
      "\tStarting cross validation\n",
      "\tFinished cross validation - mean R2: 0.441\n",
      "(5/5) Linear Regressor w/ Simple Imputer + ... Elapsed:00:09\n",
      "\tStarting cross validation\n",
      "\tFinished cross validation - mean R2: 0.489\n",
      "\n",
      "Search finished after 00:09            \n",
      "Best pipeline: Linear Regressor w/ Simple Imputer + Standard Scaler\n",
      "Best pipeline R2: 0.488703\n"
     ]
    }
   ],
   "source": [
    "import evalml\n",
    "from evalml import AutoMLSearch\n",
    "from evalml.demos import load_diabetes\n",
    "\n",
    "\n",
    "X, y = evalml.demos.load_diabetes()\n",
    "\n",
    "automl = AutoMLSearch(problem_type='regression', objective=\"R2\", max_pipelines=5)\n",
    "\n",
    "automl.search(X, y)"
   ]
  },
  {
   "cell_type": "code",
   "execution_count": 2,
   "metadata": {},
   "outputs": [
    {
     "data": {
      "text/html": [
       "<div>\n",
       "<style scoped>\n",
       "    .dataframe tbody tr th:only-of-type {\n",
       "        vertical-align: middle;\n",
       "    }\n",
       "\n",
       "    .dataframe tbody tr th {\n",
       "        vertical-align: top;\n",
       "    }\n",
       "\n",
       "    .dataframe thead th {\n",
       "        text-align: right;\n",
       "    }\n",
       "</style>\n",
       "<table border=\"1\" class=\"dataframe\">\n",
       "  <thead>\n",
       "    <tr style=\"text-align: right;\">\n",
       "      <th></th>\n",
       "      <th>id</th>\n",
       "      <th>pipeline_name</th>\n",
       "      <th>score</th>\n",
       "      <th>high_variance_cv</th>\n",
       "      <th>parameters</th>\n",
       "    </tr>\n",
       "  </thead>\n",
       "  <tbody>\n",
       "    <tr>\n",
       "      <th>0</th>\n",
       "      <td>4</td>\n",
       "      <td>Linear Regressor w/ Simple Imputer + Standard ...</td>\n",
       "      <td>0.488703</td>\n",
       "      <td>False</td>\n",
       "      <td>{'Simple Imputer': {'impute_strategy': 'most_f...</td>\n",
       "    </tr>\n",
       "    <tr>\n",
       "      <th>1</th>\n",
       "      <td>2</td>\n",
       "      <td>CatBoost Regressor w/ Simple Imputer</td>\n",
       "      <td>0.446477</td>\n",
       "      <td>False</td>\n",
       "      <td>{'Simple Imputer': {'impute_strategy': 'most_f...</td>\n",
       "    </tr>\n",
       "    <tr>\n",
       "      <th>2</th>\n",
       "      <td>3</td>\n",
       "      <td>Random Forest Regressor w/ Simple Imputer</td>\n",
       "      <td>0.441420</td>\n",
       "      <td>False</td>\n",
       "      <td>{'Simple Imputer': {'impute_strategy': 'most_f...</td>\n",
       "    </tr>\n",
       "    <tr>\n",
       "      <th>3</th>\n",
       "      <td>1</td>\n",
       "      <td>XGBoost Regressor w/ Simple Imputer</td>\n",
       "      <td>0.331082</td>\n",
       "      <td>False</td>\n",
       "      <td>{'Simple Imputer': {'impute_strategy': 'most_f...</td>\n",
       "    </tr>\n",
       "    <tr>\n",
       "      <th>4</th>\n",
       "      <td>0</td>\n",
       "      <td>Mean Baseline Regression Pipeline</td>\n",
       "      <td>-0.004217</td>\n",
       "      <td>False</td>\n",
       "      <td>{'Baseline Regressor': {'strategy': 'mean'}}</td>\n",
       "    </tr>\n",
       "  </tbody>\n",
       "</table>\n",
       "</div>"
      ],
      "text/plain": [
       "   id                                      pipeline_name     score  \\\n",
       "0   4  Linear Regressor w/ Simple Imputer + Standard ...  0.488703   \n",
       "1   2               CatBoost Regressor w/ Simple Imputer  0.446477   \n",
       "2   3          Random Forest Regressor w/ Simple Imputer  0.441420   \n",
       "3   1                XGBoost Regressor w/ Simple Imputer  0.331082   \n",
       "4   0                  Mean Baseline Regression Pipeline -0.004217   \n",
       "\n",
       "   high_variance_cv                                         parameters  \n",
       "0             False  {'Simple Imputer': {'impute_strategy': 'most_f...  \n",
       "1             False  {'Simple Imputer': {'impute_strategy': 'most_f...  \n",
       "2             False  {'Simple Imputer': {'impute_strategy': 'most_f...  \n",
       "3             False  {'Simple Imputer': {'impute_strategy': 'most_f...  \n",
       "4             False       {'Baseline Regressor': {'strategy': 'mean'}}  "
      ]
     },
     "execution_count": 2,
     "metadata": {},
     "output_type": "execute_result"
    }
   ],
   "source": [
    "automl.rankings"
   ]
  },
  {
   "cell_type": "code",
   "execution_count": 3,
   "metadata": {},
   "outputs": [
    {
     "data": {
      "text/plain": [
       "<evalml.pipelines.utils.make_pipeline.<locals>.GeneratedPipeline at 0x10a4cbb50>"
      ]
     },
     "execution_count": 3,
     "metadata": {},
     "output_type": "execute_result"
    }
   ],
   "source": [
    "automl.best_pipeline"
   ]
  },
  {
   "cell_type": "code",
   "execution_count": 4,
   "metadata": {},
   "outputs": [
    {
     "data": {
      "text/plain": [
       "<evalml.pipelines.regression.baseline_regression.MeanBaselineRegressionPipeline at 0x15ac849d0>"
      ]
     },
     "execution_count": 4,
     "metadata": {},
     "output_type": "execute_result"
    }
   ],
   "source": [
    "automl.get_pipeline(0)"
   ]
  },
  {
   "cell_type": "code",
   "execution_count": 5,
   "metadata": {},
   "outputs": [
    {
     "name": "stdout",
     "output_type": "stream",
     "text": [
      "*************************************\n",
      "* Mean Baseline Regression Pipeline *\n",
      "*************************************\n",
      "\n",
      "Problem Type: Regression\n",
      "Model Family: Baseline\n",
      "\n",
      "Pipeline Steps\n",
      "==============\n",
      "1. Baseline Regressor\n",
      "\t * strategy : mean\n",
      "\n",
      "Training\n",
      "========\n",
      "Training for Regression problems.\n",
      "Total training time (including CV): 0.0 seconds\n",
      "\n",
      "Cross Validation\n",
      "----------------\n",
      "                R2  Root Mean Squared Error    MAE      MSE  MedianAE  MaxError  ExpVariance # Training # Testing\n",
      "0           -0.007                   75.863 63.324 5755.216    57.190   186.810       -0.000    294.000   148.000\n",
      "1           -0.000                   79.654 68.759 6344.747    67.966   193.966        0.000    295.000   147.000\n",
      "2           -0.006                   75.705 65.485 5731.187    63.817   170.817       -0.000    295.000   147.000\n",
      "mean        -0.004                   77.074 65.856 5943.717    62.991   183.864       -0.000          -         -\n",
      "std          0.004                    2.236  2.736  347.510     5.435    11.852        0.000          -         -\n",
      "coef of var -0.866                    0.029  0.042    0.058     0.086     0.064       -0.866          -         -\n"
     ]
    }
   ],
   "source": [
    "automl.describe_pipeline(0)"
   ]
  }
 ],
 "metadata": {
  "kernelspec": {
   "display_name": "Python 3",
   "language": "python",
   "name": "python3"
  },
  "language_info": {
   "codemirror_mode": {
    "name": "ipython",
    "version": 3
   },
   "file_extension": ".py",
   "mimetype": "text/x-python",
   "name": "python",
   "nbconvert_exporter": "python",
   "pygments_lexer": "ipython3",
   "version": "3.8.2"
  }
 },
 "nbformat": 4,
 "nbformat_minor": 4
}
