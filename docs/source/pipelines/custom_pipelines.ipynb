{
 "cells": [
  {
   "cell_type": "markdown",
   "metadata": {},
   "source": [
    "# Custom Pipelines in EvalML\n",
    "\n",
    "EvalML pipelines consist of modular components combining any number of transformers and an estimator. This allows you to create pipelines that fit the needs of your data to achieve the best results."
   ]
  },
  {
   "cell_type": "markdown",
   "metadata": {},
   "source": [
    "## Requirements\n",
    "A custom pipeline must adhere to the following requirements:\n",
    "\n",
    "1. Inherit from the proper pipeline base class\n",
    "    - Binary classification - `BinaryClassificationPipeline`\n",
    "    - Multiclass classification - `MulticlassClassificationPipeline`\n",
    "    - Regression - `RegressionPipeline`\n",
    "\n",
    "\n",
    "2. Have a `component_graph` list as a class variable detailing the structure of the pipeline. Each component in the graph can be provided as either a string name or an instance."
   ]
  },
  {
   "cell_type": "markdown",
   "metadata": {},
   "source": [
    "## Pipeline Configuration\n",
    "There are a few other options to configure your custom pipeline."
   ]
  },
  {
   "cell_type": "markdown",
   "metadata": {},
   "source": [
    "### Custom Name\n",
    "By default, a pipeline class's name property is the result of adding spaces between each Pascal case capitalization in the class name. E.g. `LogisticRegressionPipeline.name` will return 'Logistic Regression Pipeline'. Therefore, we suggest custom pipelines use Pascal case for their class names.\n",
    "\n",
    "If you'd like to override the pipeline classes name attribute so it isn't derived from the class name, you can set the custom_name attribute, like so:"
   ]
  },
  {
   "cell_type": "code",
   "execution_count": 1,
   "metadata": {},
   "outputs": [
    {
     "name": "stdout",
     "output_type": "stream",
     "text": [
      "A custom pipeline name\n"
     ]
    }
   ],
   "source": [
    "from evalml.pipelines import MulticlassClassificationPipeline\n",
    "\n",
    "class CustomPipeline(MulticlassClassificationPipeline):\n",
    "    component_graph = ['Simple Imputer', 'Logistic Regression Classifier']\n",
    "    custom_name = 'A custom pipeline name'\n",
    "    \n",
    "print(CustomPipeline.name)"
   ]
  },
  {
   "cell_type": "markdown",
   "metadata": {},
   "source": [
    "### Custom Hyperparameters\n",
    "To specify custom hyperparameter ranges, set the custom_hyperparameters property to be a dictionary where each key-value pair consists of a parameter name and range. AutoML will use this dictionary to override the hyperparameter ranges collected from each component in the component graph."
   ]
  },
  {
   "cell_type": "code",
   "execution_count": 2,
   "metadata": {},
   "outputs": [
    {
     "name": "stdout",
     "output_type": "stream",
     "text": [
      "Without custom hyperparameters:\n",
      "{'Simple Imputer': {'impute_strategy': ['mean', 'median', 'most_frequent']}, 'One Hot Encoder': {}, 'Standard Scaler': {}, 'Logistic Regression Classifier': {'penalty': ['l2'], 'C': Real(low=0.01, high=10, prior='uniform', transform='identity')}}\n",
      "\n",
      "With custom hyperparameters:\n",
      "{'Simple Imputer': {'impute_strategy': ['most_frequent']}, 'One Hot Encoder': {}, 'Standard Scaler': {}, 'Logistic Regression Classifier': {'penalty': ['l2'], 'C': Real(low=0.01, high=10, prior='uniform', transform='identity')}}\n"
     ]
    }
   ],
   "source": [
    "class CustomPipeline(MulticlassClassificationPipeline):\n",
    "    component_graph = ['Simple Imputer', 'One Hot Encoder', 'Standard Scaler', 'Logistic Regression Classifier']\n",
    "\n",
    "print(\"Without custom hyperparameters:\")\n",
    "print(CustomPipeline.hyperparameters)  \n",
    "    \n",
    "class CustomPipeline(MulticlassClassificationPipeline):\n",
    "        component_graph = ['Simple Imputer', 'One Hot Encoder', 'Standard Scaler', 'Logistic Regression Classifier']\n",
    "        custom_hyperparameters = {\n",
    "        'Simple Imputer' : {\n",
    "            'impute_strategy': ['most_frequent']\n",
    "        }\n",
    "    }\n",
    "\n",
    "print()\n",
    "print(\"With custom hyperparameters:\")\n",
    "print(CustomPipeline.hyperparameters)"
   ]
  },
  {
   "cell_type": "markdown",
   "metadata": {},
   "source": [
    "To initialize our new custom pipeline class, we must pass in a `parameters` argument. If we want to use the defaults for each component, we can simply pass in an empty dictionary."
   ]
  },
  {
   "cell_type": "code",
   "execution_count": 3,
   "metadata": {},
   "outputs": [
    {
     "data": {
      "text/plain": [
       "<__main__.CustomPipeline at 0x10e914730>"
      ]
     },
     "execution_count": 3,
     "metadata": {},
     "output_type": "execute_result"
    }
   ],
   "source": [
    "CustomPipeline(parameters={})"
   ]
  },
  {
   "cell_type": "markdown",
   "metadata": {},
   "source": [
    "### Custom Parameters\n",
    "You can also pass in custom parameters. The parameters dictionary needs to be in the format of a two-layered dictionary where the first key-value pair is the component name and component parameters dictionary. The component parameters dictionary consists of a key value pair of parameter name and parameter values. An example will be shown below and component parameters can be found [here](../api_reference.rst#components)."
   ]
  },
  {
   "cell_type": "code",
   "execution_count": 4,
   "metadata": {},
   "outputs": [],
   "source": [
    "parameters = {\n",
    "        'Simple Imputer': {\n",
    "            'impute_strategy': 'mean'\n",
    "        },\n",
    "        'Logistic Regression Classifier': {\n",
    "            'penalty': 'l2',\n",
    "            'C': 1.0,\n",
    "        }\n",
    "    }\n",
    "\n",
    "cp = CustomPipeline(parameters=parameters, random_state=5)\n"
   ]
  },
  {
   "cell_type": "markdown",
   "metadata": {},
   "source": [
    "You can call `.graph()` to see each component and its parameters. Each component takes in data and feeds it to the next."
   ]
  },
  {
   "cell_type": "code",
   "execution_count": 5,
   "metadata": {},
   "outputs": [
    {
     "data": {
      "image/svg+xml": [
       "<?xml version=\"1.0\" encoding=\"UTF-8\" standalone=\"no\"?>\n",
       "<!DOCTYPE svg PUBLIC \"-//W3C//DTD SVG 1.1//EN\"\n",
       " \"http://www.w3.org/Graphics/SVG/1.1/DTD/svg11.dtd\">\n",
       "<!-- Generated by graphviz version 2.44.0 (20200408.0750)\n",
       " -->\n",
       "<!-- Title: Custom Pipeline Pages: 1 -->\n",
       "<svg width=\"698pt\" height=\"115pt\"\n",
       " viewBox=\"0.00 0.00 698.00 115.00\" xmlns=\"http://www.w3.org/2000/svg\" xmlns:xlink=\"http://www.w3.org/1999/xlink\">\n",
       "<g id=\"graph0\" class=\"graph\" transform=\"scale(1 1) rotate(0) translate(4 111)\">\n",
       "<title>Custom Pipeline</title>\n",
       "<polygon fill=\"white\" stroke=\"transparent\" points=\"-4,4 -4,-111 694,-111 694,4 -4,4\"/>\n",
       "<!-- Simple Imputer -->\n",
       "<g id=\"node1\" class=\"node\">\n",
       "<title>Simple Imputer</title>\n",
       "<polygon fill=\"none\" stroke=\"black\" points=\"0,-23 0,-84 146,-84 146,-23 0,-23\"/>\n",
       "<text text-anchor=\"middle\" x=\"73\" y=\"-68.8\" font-family=\"Times,serif\" font-size=\"14.00\">Simple Imputer</text>\n",
       "<polyline fill=\"none\" stroke=\"black\" points=\"0,-61 146,-61 \"/>\n",
       "<text text-anchor=\"start\" x=\"8\" y=\"-45.8\" font-family=\"Times,serif\" font-size=\"14.00\">impute_strategy : mean</text>\n",
       "<text text-anchor=\"start\" x=\"8\" y=\"-30.8\" font-family=\"Times,serif\" font-size=\"14.00\">fill_value : None</text>\n",
       "</g>\n",
       "<!-- One Hot Encoder -->\n",
       "<g id=\"node2\" class=\"node\">\n",
       "<title>One Hot Encoder</title>\n",
       "<polygon fill=\"none\" stroke=\"black\" points=\"182,-0.5 182,-106.5 337,-106.5 337,-0.5 182,-0.5\"/>\n",
       "<text text-anchor=\"middle\" x=\"259.5\" y=\"-91.3\" font-family=\"Times,serif\" font-size=\"14.00\">One Hot Encoder</text>\n",
       "<polyline fill=\"none\" stroke=\"black\" points=\"182,-83.5 337,-83.5 \"/>\n",
       "<text text-anchor=\"start\" x=\"190\" y=\"-68.3\" font-family=\"Times,serif\" font-size=\"14.00\">top_n : 10</text>\n",
       "<text text-anchor=\"start\" x=\"190\" y=\"-53.3\" font-family=\"Times,serif\" font-size=\"14.00\">categories : None</text>\n",
       "<text text-anchor=\"start\" x=\"190\" y=\"-38.3\" font-family=\"Times,serif\" font-size=\"14.00\">drop : None</text>\n",
       "<text text-anchor=\"start\" x=\"190\" y=\"-23.3\" font-family=\"Times,serif\" font-size=\"14.00\">handle_unknown : ignore</text>\n",
       "<text text-anchor=\"start\" x=\"190\" y=\"-8.3\" font-family=\"Times,serif\" font-size=\"14.00\">handle_missing : error</text>\n",
       "</g>\n",
       "<!-- Simple Imputer&#45;&gt;One Hot Encoder -->\n",
       "<g id=\"edge1\" class=\"edge\">\n",
       "<title>Simple Imputer&#45;&gt;One Hot Encoder</title>\n",
       "<path fill=\"none\" stroke=\"black\" d=\"M146.17,-53.5C146.17,-53.5 171.93,-53.5 171.93,-53.5\"/>\n",
       "<polygon fill=\"black\" stroke=\"black\" points=\"171.93,-57 181.93,-53.5 171.93,-50 171.93,-57\"/>\n",
       "</g>\n",
       "<!-- Standard Scaler -->\n",
       "<g id=\"node3\" class=\"node\">\n",
       "<title>Standard Scaler</title>\n",
       "<polygon fill=\"none\" stroke=\"black\" points=\"373,-35.5 373,-71.5 475,-71.5 475,-35.5 373,-35.5\"/>\n",
       "<text text-anchor=\"start\" x=\"381\" y=\"-49.8\" font-family=\"Times,serif\" font-size=\"14.00\">Standard Scaler</text>\n",
       "</g>\n",
       "<!-- One Hot Encoder&#45;&gt;Standard Scaler -->\n",
       "<g id=\"edge2\" class=\"edge\">\n",
       "<title>One Hot Encoder&#45;&gt;Standard Scaler</title>\n",
       "<path fill=\"none\" stroke=\"black\" d=\"M337.41,-53.5C337.41,-53.5 362.64,-53.5 362.64,-53.5\"/>\n",
       "<polygon fill=\"black\" stroke=\"black\" points=\"362.64,-57 372.64,-53.5 362.64,-50 362.64,-57\"/>\n",
       "</g>\n",
       "<!-- Logistic Regression Classifier -->\n",
       "<g id=\"node4\" class=\"node\">\n",
       "<title>Logistic Regression Classifier</title>\n",
       "<polygon fill=\"none\" stroke=\"black\" points=\"511,-15.5 511,-91.5 690,-91.5 690,-15.5 511,-15.5\"/>\n",
       "<text text-anchor=\"middle\" x=\"600.5\" y=\"-76.3\" font-family=\"Times,serif\" font-size=\"14.00\">Logistic Regression Classifier</text>\n",
       "<polyline fill=\"none\" stroke=\"black\" points=\"511,-68.5 690,-68.5 \"/>\n",
       "<text text-anchor=\"start\" x=\"519\" y=\"-53.3\" font-family=\"Times,serif\" font-size=\"14.00\">penalty : l2</text>\n",
       "<text text-anchor=\"start\" x=\"519\" y=\"-38.3\" font-family=\"Times,serif\" font-size=\"14.00\">C : 1.00</text>\n",
       "<text text-anchor=\"start\" x=\"519\" y=\"-23.3\" font-family=\"Times,serif\" font-size=\"14.00\">n_jobs : &#45;1</text>\n",
       "</g>\n",
       "<!-- Standard Scaler&#45;&gt;Logistic Regression Classifier -->\n",
       "<g id=\"edge3\" class=\"edge\">\n",
       "<title>Standard Scaler&#45;&gt;Logistic Regression Classifier</title>\n",
       "<path fill=\"none\" stroke=\"black\" d=\"M475.05,-53.5C475.05,-53.5 500.98,-53.5 500.98,-53.5\"/>\n",
       "<polygon fill=\"black\" stroke=\"black\" points=\"500.98,-57 510.98,-53.5 500.98,-50 500.98,-57\"/>\n",
       "</g>\n",
       "</g>\n",
       "</svg>\n"
      ],
      "text/plain": [
       "<graphviz.dot.Digraph at 0x15e797130>"
      ]
     },
     "execution_count": 5,
     "metadata": {},
     "output_type": "execute_result"
    }
   ],
   "source": [
    "cp.graph()"
   ]
  },
  {
   "cell_type": "markdown",
   "metadata": {},
   "source": [
    "You can see more detailed information by calling `.describe()`:"
   ]
  },
  {
   "cell_type": "code",
   "execution_count": 6,
   "metadata": {},
   "outputs": [
    {
     "name": "stdout",
     "output_type": "stream",
     "text": [
      "*******************\n",
      "* Custom Pipeline *\n",
      "*******************\n",
      "\n",
      "Problem Type: Multiclass Classification\n",
      "Model Family: Linear\n",
      "\n",
      "Pipeline Steps\n",
      "==============\n",
      "1. Simple Imputer\n",
      "\t * impute_strategy : mean\n",
      "\t * fill_value : None\n",
      "2. One Hot Encoder\n",
      "\t * top_n : 10\n",
      "\t * categories : None\n",
      "\t * drop : None\n",
      "\t * handle_unknown : ignore\n",
      "\t * handle_missing : error\n",
      "3. Standard Scaler\n",
      "4. Logistic Regression Classifier\n",
      "\t * penalty : l2\n",
      "\t * C : 1.0\n",
      "\t * n_jobs : -1\n"
     ]
    }
   ],
   "source": [
    "cp.describe()"
   ]
  },
  {
   "cell_type": "markdown",
   "metadata": {},
   "source": [
    "You can then fit and score an individual pipeline with an objective. An objective can either be a string representation of an EvalML objective or an EvalML objective class. You can find more objectives [here](../api_reference.rst#objective-functions)."
   ]
  },
  {
   "cell_type": "code",
   "execution_count": 7,
   "metadata": {},
   "outputs": [
    {
     "data": {
      "text/plain": [
       "OrderedDict([('Log Loss Multiclass', 0.03186139504848921)])"
      ]
     },
     "execution_count": 7,
     "metadata": {},
     "output_type": "execute_result"
    }
   ],
   "source": [
    "from evalml.demos import load_wine\n",
    "\n",
    "X, y = load_wine()\n",
    "cp.fit(X, y)\n",
    "cp.score(X, y, objectives=['log_loss_multi'])"
   ]
  }
 ],
 "metadata": {
  "kernelspec": {
   "display_name": "Python 3",
   "language": "python",
   "name": "python3"
  },
  "language_info": {
   "codemirror_mode": {
    "name": "ipython",
    "version": 3
   },
   "file_extension": ".py",
   "mimetype": "text/x-python",
   "name": "python",
   "nbconvert_exporter": "python",
   "pygments_lexer": "ipython3",
   "version": "3.8.2"
  }
 },
 "nbformat": 4,
 "nbformat_minor": 4
}
