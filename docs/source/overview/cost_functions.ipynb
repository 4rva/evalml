{
 "cells": [
  {
   "cell_type": "raw",
   "metadata": {
    "raw_mimetype": "text/restructuredtext"
   },
   "source": [
    "==============\n",
    "Cost Functions\n",
    "==============\n",
    "\n",
    "A cost function defines the performance of a model. There are general metrics available to get an idea on how well a model performs, but they do not optimize for a specific use case. With EvalML, we can train and optimize a model to what matters most by creating a specific cost function for a particular use case.\n",
    "\n",
    "How to Create a Cost Function\n",
    "=============================\n",
    "To create a cost function, we need to define how the cost function should be optimized, how predictions should be made using the optimal parameters, and how to score the performance of a model."
   ]
  }
 ],
 "metadata": {
  "celltoolbar": "Raw Cell Format",
  "jupytext": {
   "cell_metadata_filter": "-all",
   "main_language": "python",
   "notebook_metadata_filter": "-all"
  },
  "kernelspec": {
   "display_name": "Python 3",
   "language": "python",
   "name": "python3"
  },
  "language_info": {
   "codemirror_mode": {
    "name": "ipython",
    "version": 3
   },
   "file_extension": ".py",
   "mimetype": "text/x-python",
   "name": "python",
   "nbconvert_exporter": "python",
   "pygments_lexer": "ipython3",
   "version": "3.7.0"
  }
 },
 "nbformat": 4,
 "nbformat_minor": 2
}
