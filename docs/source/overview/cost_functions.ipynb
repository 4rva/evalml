{
 "cells": [
  {
   "cell_type": "raw",
   "metadata": {
    "raw_mimetype": "text/restructuredtext"
   },
   "source": [
    "==============\n",
    "Cost Functions\n",
    "==============\n",
    "\n",
    "A **cost function** is a function that creates an evaluation metric for quantifying the performance of a model. In a machine learning context, the cost function is interchangeably used with *loss function*, *objective function*, *scoring function*, or *error function*. There are general cost functions available to get an idea on how well a model performs, but they are not optimized for problem-specific use cases. With EvalML, we can train and optimize a model for a specific problem by creating and optimizing a problem-specific cost function.\n",
    "\n",
    "How to Create a Cost Function\n",
    "=============================\n",
    "To create a cost function, we need to define three methods: how the cost function should be optimized, how predictions should be made using optimized parameters, and how the performance of a model should be evaluated.\n",
    "\n",
    "List of Available Cost Functions\n",
    "--------------------------------\n",
    "- Fraud Detection\n",
    "- Lead Scoring"
   ]
  }
 ],
 "metadata": {
  "celltoolbar": "Raw Cell Format",
  "jupytext": {
   "cell_metadata_filter": "-all",
   "main_language": "python",
   "notebook_metadata_filter": "-all"
  },
  "kernelspec": {
   "display_name": "Python 3",
   "language": "python",
   "name": "python3"
  },
  "language_info": {
   "codemirror_mode": {
    "name": "ipython",
    "version": 3
   },
   "file_extension": ".py",
   "mimetype": "text/x-python",
   "name": "python",
   "nbconvert_exporter": "python",
   "pygments_lexer": "ipython3",
   "version": "3.7.0"
  }
 },
 "nbformat": 4,
 "nbformat_minor": 2
}
