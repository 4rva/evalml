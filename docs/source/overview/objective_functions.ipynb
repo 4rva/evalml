{
 "cells": [
  {
   "cell_type": "markdown",
   "metadata": {
    "raw_mimetype": "text/restructuredtext"
   },
   "source": [
    "# Objective Functions\n",
    "\n",
    "An **objective function** is a function that creates an evaluation metric for quantifying the performance of a model. \n",
    "\n",
    "\n",
    "In a machine learning context, the objective function is interchangeably used with *loss function*, *cost function*, *scoring function*, or *error function*. \n",
    "\n",
    "There are general cost functions available to get an idea on how well a model performs, but they are not optimized for problem-specific use cases. With EvalML, we can train and optimize a model for a specific problem by creating and optimizing a problem-specific cost function."
   ]
  },
  {
   "cell_type": "markdown",
   "metadata": {},
   "source": [
    "## List of Available Cost Functions\n",
    "- Fraud Detection\n",
    "- Lead Scoring"
   ]
  },
  {
   "cell_type": "markdown",
   "metadata": {},
   "source": [
    "## How to Create a Cost Function\n",
    "To create a cost function, we need to define three methods: how the cost function should be optimized, how predictions should be made using optimized parameters, and how the performance of a model should be evaluated."
   ]
  }
 ],
 "metadata": {
  "celltoolbar": "Raw Cell Format",
  "jupytext": {
   "cell_metadata_filter": "-all",
   "main_language": "python",
   "notebook_metadata_filter": "-all"
  },
  "kernelspec": {
   "display_name": "Python 3",
   "language": "python",
   "name": "python3"
  },
  "language_info": {
   "codemirror_mode": {
    "name": "ipython",
    "version": 3
   },
   "file_extension": ".py",
   "mimetype": "text/x-python",
   "name": "python",
   "nbconvert_exporter": "python",
   "pygments_lexer": "ipython3",
   "version": "3.6.8"
  }
 },
 "nbformat": 4,
 "nbformat_minor": 4
}
