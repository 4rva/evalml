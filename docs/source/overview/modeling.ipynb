{
 "cells": [
  {
   "cell_type": "raw",
   "metadata": {
    "raw_mimetype": "text/restructuredtext"
   },
   "source": [
    "========\n",
    "Modeling\n",
    "========\n",
    "\n",
    "A **machine learning model** is an algorithm that detects patterns from historical data to make predictions on present or future data. \n",
    "\n",
    "Training / Testing Set\n",
    "============================\n",
    "To train a model, the historical data is split into a training set and a testing set. Generally, this is applied by giving 80 percent to the training set and the other 20 percent to the testing set. The testing set is also referred to as the holdout set. Additionally, a small percentage of data can be taken from the training set to train a specific cost function.\n",
    "\n",
    "Feature Selection\n",
    "==================\n",
    "During the training process, the model selects which features are considered the most important for making predictions.\n",
    "\n",
    "Cross-Validation\n",
    "================\n",
    "On the training set, the model performance is estimated by cross-validation. Cross-validation is applied by partitioning the training set into several folds. One fold is left out to test the model while the rest of the folds are used to train the model. This process is repeated until each fold has been tested on the model. During cross-validation, metrics are collected on each fold and then aggregated to create a performance report.\n",
    "\n",
    "Holdout Test\n",
    "============\n",
    "After validating the model, an additional report is created by training the model on the entire training set and testing the model on the initial holdout set. This final performance report ultimately defines whether the model has effectively learned the data."
   ]
  }
 ],
 "metadata": {
  "celltoolbar": "Raw Cell Format",
  "jupytext": {
   "cell_metadata_filter": "-all",
   "main_language": "python",
   "notebook_metadata_filter": "-all"
  },
  "kernelspec": {
   "display_name": "Python 3",
   "language": "python",
   "name": "python3"
  },
  "language_info": {
   "codemirror_mode": {
    "name": "ipython",
    "version": 3
   },
   "file_extension": ".py",
   "mimetype": "text/x-python",
   "name": "python",
   "nbconvert_exporter": "python",
   "pygments_lexer": "ipython3",
   "version": "3.7.0"
  }
 },
 "nbformat": 4,
 "nbformat_minor": 2
}
