{
 "cells": [
  {
   "cell_type": "markdown",
   "metadata": {},
   "source": [
    "![EvalML Logo](images/evalml_logo.png)"
   ]
  },
  {
   "cell_type": "markdown",
   "metadata": {},
   "source": [
    "\n",
    "# What is EvalML?\n",
    "EvalML is an AutoML library that builds, optimizes, and evaluates machine learning pipelines using domain-specific objective functions. \n",
    "\n",
    "Combined with [Featuretools](https://featuretools.featurelabs.com) and [Compose](https://compose.featurelabs.com), EvalML can be used to create end-to-end machine learning solutions for classification and regression problems. "
   ]
  },
  {
   "cell_type": "markdown",
   "metadata": {},
   "source": [
    "# Quick Start"
   ]
  },
  {
   "cell_type": "code",
   "execution_count": 1,
   "metadata": {},
   "outputs": [],
   "source": [
    "import evalml\n",
    "from evalml import AutoMLSearch"
   ]
  },
  {
   "cell_type": "markdown",
   "metadata": {},
   "source": [
    "## Load Data\n",
    "\n",
    "First, we load in the features and outcomes we want to use to train our model."
   ]
  },
  {
   "cell_type": "code",
   "execution_count": 2,
   "metadata": {},
   "outputs": [],
   "source": [
    "X, y = evalml.demos.load_breast_cancer()"
   ]
  },
  {
   "cell_type": "markdown",
   "metadata": {},
   "source": [
    "## Configure search\n",
    "\n",
    "EvalML has many options to configure the pipeline search. At the minimum, we need to define an objective function. For simplicity, we will use the F1 score in this example. However, the real power of EvalML is in using domain-specific [objective functions](objectives/overview.ipynb) or [building your own](objectives/custom_objectives.ipynb).\n",
    "\n",
    "Below EvalML utilizes Bayesian optimization (EvalML's default optimizer) to search and find the best pipeline defined by the given objective."
   ]
  },
  {
   "cell_type": "code",
   "execution_count": 3,
   "metadata": {},
   "outputs": [],
   "source": [
    "automl = AutoMLSearch(problem_type=\"binary\",\n",
    "                      objective=\"f1\",\n",
    "                      max_pipelines=5)"
   ]
  },
  {
   "cell_type": "markdown",
   "metadata": {},
   "source": [
    "In order to validate the results of the pipeline creation and optimization process, we will save some of our data as a holdout set."
   ]
  },
  {
   "cell_type": "code",
   "execution_count": 4,
   "metadata": {},
   "outputs": [],
   "source": [
    "X_train, X_holdout, y_train, y_holdout = evalml.preprocessing.split_data(X, y, test_size=.2)"
   ]
  },
  {
   "cell_type": "markdown",
   "metadata": {},
   "source": [
    "When we call `.search()`, the search for the best pipeline will begin. There is no need to wrangle with missing data or categorical variables as EvalML includes various preprocessing steps (like imputation, one-hot encoding, feature selection) to ensure you're getting the best results. As long as your data is in a single table, EvalML can handle it. If not, you can reduce your data to a single table by utilizing [Featuretools](https://featuretools.featurelabs.com) and its Entity Sets.\n",
    "\n",
    "You can find more information on pipeline components and how to integrate your own custom pipelines into EvalML [here](pipelines/custom_pipelines.ipynb)."
   ]
  },
  {
   "cell_type": "code",
   "execution_count": 5,
   "metadata": {},
   "outputs": [
    {
     "name": "stdout",
     "output_type": "stream",
     "text": [
      "Generating pipelines to search over...\n",
      "*****************************\n",
      "* Beginning pipeline search *\n",
      "*****************************\n",
      "\n",
      "Optimizing for F1. \n",
      "Greater score is better.\n",
      "\n",
      "Searching up to 5 pipelines. \n",
      "Allowed model families: linear_model, catboost, random_forest, xgboost\n",
      "\n"
     ]
    },
    {
     "data": {
      "application/vnd.jupyter.widget-view+json": {
       "model_id": "18f538bfdeb3472f9e11c65058828548",
       "version_major": 2,
       "version_minor": 0
      },
      "text/plain": [
       "FigureWidget({\n",
       "    'data': [{'mode': 'lines+markers',\n",
       "              'name': 'Best Score',\n",
       "              'type'…"
      ]
     },
     "metadata": {},
     "output_type": "display_data"
    },
    {
     "name": "stdout",
     "output_type": "stream",
     "text": [
      "(1/5) Mode Baseline Binary Classification P... Elapsed:00:00\n",
      "\tStarting cross validation\n",
      "\tFinished cross validation - mean F1: 0.770\n",
      "(2/5) CatBoost Classifier w/ Simple Imputer    Elapsed:00:00\n",
      "\tStarting cross validation\n",
      "\tFinished cross validation - mean F1: 0.973\n",
      "(3/5) XGBoost Classifier w/ Simple Imputer     Elapsed:00:05\n",
      "\tStarting cross validation\n",
      "\tFinished cross validation - mean F1: 0.967\n",
      "(4/5) Random Forest Classifier w/ Simple Im... Elapsed:00:05\n",
      "\tStarting cross validation\n",
      "\tFinished cross validation - mean F1: 0.967\n",
      "(5/5) Logistic Regression Classifier w/ Sim... Elapsed:00:06\n",
      "\tStarting cross validation\n",
      "\tFinished cross validation - mean F1: 0.979\n",
      "\n",
      "Search finished after 00:07            \n",
      "Best pipeline: Logistic Regression Classifier w/ Simple Imputer + Standard Scaler\n",
      "Best pipeline F1: 0.979111\n"
     ]
    }
   ],
   "source": [
    "automl.search(X_train, y_train)"
   ]
  },
  {
   "cell_type": "markdown",
   "metadata": {},
   "source": [
    "## See Pipeline Rankings\n",
    "\n",
    "After the search is finished we can view all of the pipelines searched, ranked by score. Internally, EvalML performs cross validation to score the pipelines. If it notices a high variance across cross validation folds, it will warn you. EvalML also provides additional [data checks](data_checks/data_checks_in_automl.ipynb) to analyze your data to assist you in producing the best performing pipeline. "
   ]
  },
  {
   "cell_type": "code",
   "execution_count": 6,
   "metadata": {},
   "outputs": [
    {
     "data": {
      "text/html": [
       "<div>\n",
       "<style scoped>\n",
       "    .dataframe tbody tr th:only-of-type {\n",
       "        vertical-align: middle;\n",
       "    }\n",
       "\n",
       "    .dataframe tbody tr th {\n",
       "        vertical-align: top;\n",
       "    }\n",
       "\n",
       "    .dataframe thead th {\n",
       "        text-align: right;\n",
       "    }\n",
       "</style>\n",
       "<table border=\"1\" class=\"dataframe\">\n",
       "  <thead>\n",
       "    <tr style=\"text-align: right;\">\n",
       "      <th></th>\n",
       "      <th>id</th>\n",
       "      <th>pipeline_name</th>\n",
       "      <th>score</th>\n",
       "      <th>high_variance_cv</th>\n",
       "      <th>parameters</th>\n",
       "    </tr>\n",
       "  </thead>\n",
       "  <tbody>\n",
       "    <tr>\n",
       "      <th>0</th>\n",
       "      <td>4</td>\n",
       "      <td>Logistic Regression Classifier w/ Simple Imput...</td>\n",
       "      <td>0.979111</td>\n",
       "      <td>False</td>\n",
       "      <td>{'Simple Imputer': {'impute_strategy': 'most_f...</td>\n",
       "    </tr>\n",
       "    <tr>\n",
       "      <th>1</th>\n",
       "      <td>1</td>\n",
       "      <td>CatBoost Classifier w/ Simple Imputer</td>\n",
       "      <td>0.972574</td>\n",
       "      <td>False</td>\n",
       "      <td>{'Simple Imputer': {'impute_strategy': 'most_f...</td>\n",
       "    </tr>\n",
       "    <tr>\n",
       "      <th>2</th>\n",
       "      <td>3</td>\n",
       "      <td>Random Forest Classifier w/ Simple Imputer</td>\n",
       "      <td>0.966931</td>\n",
       "      <td>False</td>\n",
       "      <td>{'Simple Imputer': {'impute_strategy': 'most_f...</td>\n",
       "    </tr>\n",
       "    <tr>\n",
       "      <th>3</th>\n",
       "      <td>2</td>\n",
       "      <td>XGBoost Classifier w/ Simple Imputer</td>\n",
       "      <td>0.966892</td>\n",
       "      <td>False</td>\n",
       "      <td>{'Simple Imputer': {'impute_strategy': 'most_f...</td>\n",
       "    </tr>\n",
       "    <tr>\n",
       "      <th>4</th>\n",
       "      <td>0</td>\n",
       "      <td>Mode Baseline Binary Classification Pipeline</td>\n",
       "      <td>0.770273</td>\n",
       "      <td>False</td>\n",
       "      <td>{'Baseline Classifier': {'strategy': 'random_w...</td>\n",
       "    </tr>\n",
       "  </tbody>\n",
       "</table>\n",
       "</div>"
      ],
      "text/plain": [
       "   id                                      pipeline_name     score  \\\n",
       "0   4  Logistic Regression Classifier w/ Simple Imput...  0.979111   \n",
       "1   1              CatBoost Classifier w/ Simple Imputer  0.972574   \n",
       "2   3         Random Forest Classifier w/ Simple Imputer  0.966931   \n",
       "3   2               XGBoost Classifier w/ Simple Imputer  0.966892   \n",
       "4   0       Mode Baseline Binary Classification Pipeline  0.770273   \n",
       "\n",
       "   high_variance_cv                                         parameters  \n",
       "0             False  {'Simple Imputer': {'impute_strategy': 'most_f...  \n",
       "1             False  {'Simple Imputer': {'impute_strategy': 'most_f...  \n",
       "2             False  {'Simple Imputer': {'impute_strategy': 'most_f...  \n",
       "3             False  {'Simple Imputer': {'impute_strategy': 'most_f...  \n",
       "4             False  {'Baseline Classifier': {'strategy': 'random_w...  "
      ]
     },
     "execution_count": 6,
     "metadata": {},
     "output_type": "execute_result"
    }
   ],
   "source": [
    "automl.rankings"
   ]
  },
  {
   "cell_type": "markdown",
   "metadata": {},
   "source": [
    "## Describe pipeline\n",
    "\n",
    "If we are interested in see more details about the pipeline, we can describe it using the `id` from the rankings table:"
   ]
  },
  {
   "cell_type": "code",
   "execution_count": 7,
   "metadata": {},
   "outputs": [
    {
     "name": "stdout",
     "output_type": "stream",
     "text": [
      "**********************************************\n",
      "* Random Forest Classifier w/ Simple Imputer *\n",
      "**********************************************\n",
      "\n",
      "Problem Type: Binary Classification\n",
      "Model Family: Random Forest\n",
      "\n",
      "Pipeline Steps\n",
      "==============\n",
      "1. Simple Imputer\n",
      "\t * impute_strategy : most_frequent\n",
      "\t * fill_value : None\n",
      "2. Random Forest Classifier\n",
      "\t * n_estimators : 100\n",
      "\t * max_depth : 6\n",
      "\t * n_jobs : -1\n",
      "\n",
      "Training\n",
      "========\n",
      "Training for Binary Classification problems.\n",
      "Total training time (including CV): 0.6 seconds\n",
      "\n",
      "Cross Validation\n",
      "----------------\n",
      "               F1  Accuracy Binary  Balanced Accuracy Binary  Precision   AUC  Log Loss Binary  MCC Binary # Training # Testing\n",
      "0           0.927            0.908                     0.898      0.918 0.977            0.184       0.802    303.000   152.000\n",
      "1           0.984            0.980                     0.981      0.989 0.997            0.099       0.958    303.000   152.000\n",
      "2           0.990            0.987                     0.982      0.979 0.989            0.121       0.972    304.000   151.000\n",
      "mean        0.967            0.958                     0.954      0.962 0.988            0.135       0.911          -         -\n",
      "std         0.035            0.044                     0.048      0.039 0.010            0.044       0.094          -         -\n",
      "coef of var 0.036            0.046                     0.050      0.040 0.010            0.327       0.103          -         -\n"
     ]
    }
   ],
   "source": [
    "automl.describe_pipeline(3)"
   ]
  },
  {
   "cell_type": "markdown",
   "metadata": {},
   "source": [
    "## Select Best pipeline\n",
    "We can now select best pipeline and score it on our holdout data:"
   ]
  },
  {
   "cell_type": "code",
   "execution_count": 8,
   "metadata": {},
   "outputs": [
    {
     "data": {
      "text/plain": [
       "OrderedDict([('F1', 0.9726027397260274)])"
      ]
     },
     "execution_count": 8,
     "metadata": {},
     "output_type": "execute_result"
    }
   ],
   "source": [
    "pipeline = automl.best_pipeline\n",
    "pipeline.fit(X_train, y_train)\n",
    "pipeline.score(X_holdout, y_holdout, [\"f1\"])"
   ]
  },
  {
   "cell_type": "markdown",
   "metadata": {},
   "source": [
    "We can also visualize the structure of our pipeline:"
   ]
  },
  {
   "cell_type": "code",
   "execution_count": 9,
   "metadata": {},
   "outputs": [
    {
     "data": {
      "image/svg+xml": [
       "<?xml version=\"1.0\" encoding=\"UTF-8\" standalone=\"no\"?>\n",
       "<!DOCTYPE svg PUBLIC \"-//W3C//DTD SVG 1.1//EN\"\n",
       " \"http://www.w3.org/Graphics/SVG/1.1/DTD/svg11.dtd\">\n",
       "<!-- Generated by graphviz version 2.44.0 (20200408.0750)\n",
       " -->\n",
       "<!-- Title: Logistic Regression Classifier w/ Simple Imputer + Standard Scaler Pages: 1 -->\n",
       "<svg width=\"555pt\" height=\"85pt\"\n",
       " viewBox=\"0.00 0.00 555.00 85.00\" xmlns=\"http://www.w3.org/2000/svg\" xmlns:xlink=\"http://www.w3.org/1999/xlink\">\n",
       "<g id=\"graph0\" class=\"graph\" transform=\"scale(1 1) rotate(0) translate(4 81)\">\n",
       "<title>Logistic Regression Classifier w/ Simple Imputer + Standard Scaler</title>\n",
       "<polygon fill=\"white\" stroke=\"transparent\" points=\"-4,4 -4,-81 551,-81 551,4 -4,4\"/>\n",
       "<!-- Simple Imputer -->\n",
       "<g id=\"node1\" class=\"node\">\n",
       "<title>Simple Imputer</title>\n",
       "<polygon fill=\"none\" stroke=\"black\" points=\"0,-8 0,-69 194,-69 194,-8 0,-8\"/>\n",
       "<text text-anchor=\"middle\" x=\"97\" y=\"-53.8\" font-family=\"Times,serif\" font-size=\"14.00\">Simple Imputer</text>\n",
       "<polyline fill=\"none\" stroke=\"black\" points=\"0,-46 194,-46 \"/>\n",
       "<text text-anchor=\"start\" x=\"8\" y=\"-30.8\" font-family=\"Times,serif\" font-size=\"14.00\">impute_strategy : most_frequent</text>\n",
       "<text text-anchor=\"start\" x=\"8\" y=\"-15.8\" font-family=\"Times,serif\" font-size=\"14.00\">fill_value : None</text>\n",
       "</g>\n",
       "<!-- Standard Scaler -->\n",
       "<g id=\"node2\" class=\"node\">\n",
       "<title>Standard Scaler</title>\n",
       "<polygon fill=\"none\" stroke=\"black\" points=\"230,-20.5 230,-56.5 332,-56.5 332,-20.5 230,-20.5\"/>\n",
       "<text text-anchor=\"start\" x=\"238\" y=\"-34.8\" font-family=\"Times,serif\" font-size=\"14.00\">Standard Scaler</text>\n",
       "</g>\n",
       "<!-- Simple Imputer&#45;&gt;Standard Scaler -->\n",
       "<g id=\"edge1\" class=\"edge\">\n",
       "<title>Simple Imputer&#45;&gt;Standard Scaler</title>\n",
       "<path fill=\"none\" stroke=\"black\" d=\"M194.12,-38.5C194.12,-38.5 219.68,-38.5 219.68,-38.5\"/>\n",
       "<polygon fill=\"black\" stroke=\"black\" points=\"219.68,-42 229.68,-38.5 219.68,-35 219.68,-42\"/>\n",
       "</g>\n",
       "<!-- Logistic Regression Classifier -->\n",
       "<g id=\"node3\" class=\"node\">\n",
       "<title>Logistic Regression Classifier</title>\n",
       "<polygon fill=\"none\" stroke=\"black\" points=\"368,-0.5 368,-76.5 547,-76.5 547,-0.5 368,-0.5\"/>\n",
       "<text text-anchor=\"middle\" x=\"457.5\" y=\"-61.3\" font-family=\"Times,serif\" font-size=\"14.00\">Logistic Regression Classifier</text>\n",
       "<polyline fill=\"none\" stroke=\"black\" points=\"368,-53.5 547,-53.5 \"/>\n",
       "<text text-anchor=\"start\" x=\"376\" y=\"-38.3\" font-family=\"Times,serif\" font-size=\"14.00\">penalty : l2</text>\n",
       "<text text-anchor=\"start\" x=\"376\" y=\"-23.3\" font-family=\"Times,serif\" font-size=\"14.00\">C : 1.00</text>\n",
       "<text text-anchor=\"start\" x=\"376\" y=\"-8.3\" font-family=\"Times,serif\" font-size=\"14.00\">n_jobs : &#45;1</text>\n",
       "</g>\n",
       "<!-- Standard Scaler&#45;&gt;Logistic Regression Classifier -->\n",
       "<g id=\"edge2\" class=\"edge\">\n",
       "<title>Standard Scaler&#45;&gt;Logistic Regression Classifier</title>\n",
       "<path fill=\"none\" stroke=\"black\" d=\"M332.05,-38.5C332.05,-38.5 357.98,-38.5 357.98,-38.5\"/>\n",
       "<polygon fill=\"black\" stroke=\"black\" points=\"357.98,-42 367.98,-38.5 357.98,-35 357.98,-42\"/>\n",
       "</g>\n",
       "</g>\n",
       "</svg>\n"
      ],
      "text/plain": [
       "<graphviz.dot.Digraph at 0x10486f730>"
      ]
     },
     "execution_count": 9,
     "metadata": {},
     "output_type": "execute_result"
    }
   ],
   "source": [
    "pipeline.graph()"
   ]
  },
  {
   "cell_type": "markdown",
   "metadata": {},
   "source": [
    "## Whats next?\n",
    "\n",
    "Head into the more in-depth automated walkthrough [here](automl/pipeline_search.ipynb) or any advanced topics below."
   ]
  },
  {
   "cell_type": "markdown",
   "metadata": {
    "nbsphinx-toctree": {
     "maxdepth": 1
    }
   },
   "source": [
    "# Getting Started\n",
    "[What is EvalML](self)\n",
    "\n",
    "[Installation](install)"
   ]
  },
  {
   "cell_type": "markdown",
   "metadata": {
    "nbsphinx-toctree": {
     "maxdepth": 1
    }
   },
   "source": [
    "# Objective functions\n",
    "\n",
    "[Overview](objectives/overview)\n",
    "\n",
    "[Fraud Prediction](demos/fraud)\n",
    "\n",
    "[Lead Scoring](demos/lead_scoring)\n",
    "\n",
    "[Defining Custom Objectives](objectives/custom_objectives)"
   ]
  },
  {
   "cell_type": "markdown",
   "metadata": {
    "nbsphinx-toctree": {
     "maxdepth": 1
    }
   },
   "source": [
    "# Automated Machine Learning\n",
    "\n",
    "[Setting up pipeline search](automl/pipeline_search)\n",
    "\n",
    "[Exploring search results](automl/search_results)\n",
    "\n",
    "[Regression Example](automl/regression_example)\n",
    "\n",
    "[Overfitting Protection](automl/overfitting_protection)"
   ]
  },
  {
   "cell_type": "markdown",
   "metadata": {
    "nbsphinx-toctree": {
     "maxdepth": 1
    }
   },
   "source": [
    "# Pipelines and Components\n",
    "\n",
    "[Components](pipelines/components)\n",
    "\n",
    "[Custom Pipelines](pipelines/custom_pipelines)"
   ]
  },
  {
   "cell_type": "markdown",
   "metadata": {
    "nbsphinx-toctree": {
     "maxdepth": 1
    }
   },
   "source": [
    "# Data Checks\n",
    "\n",
    "[Overview](data_checks/data_checks_overview)\n",
    "\n",
    "[Using Data Checks in AutoML](data_checks/data_checks_in_automl)"
   ]
  },
  {
   "cell_type": "markdown",
   "metadata": {
    "nbsphinx-toctree": {
     "maxdepth": 1
    }
   },
   "source": [
    "# Resources\n",
    "[Changelog](changelog)\n",
    "\n",
    "[API Reference](api_reference)\n",
    "\n",
    "[FAQ](faq)"
   ]
  }
 ],
 "metadata": {
  "kernelspec": {
   "display_name": "Python 3",
   "language": "python",
   "name": "python3"
  },
  "language_info": {
   "codemirror_mode": {
    "name": "ipython",
    "version": 3
   },
   "file_extension": ".py",
   "mimetype": "text/x-python",
   "name": "python",
   "nbconvert_exporter": "python",
   "pygments_lexer": "ipython3",
   "version": "3.8.2"
  }
 },
 "nbformat": 4,
 "nbformat_minor": 4
}
