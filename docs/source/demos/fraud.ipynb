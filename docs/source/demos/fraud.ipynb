{
 "cells": [
  {
   "cell_type": "markdown",
   "metadata": {},
   "source": [
    "# Building a Fraud Prediction Model with EvalML\n",
    "\n",
    "In this demo, we will build an optimized fraud prediction model using EvalML. To optimize the pipeline, we will set up an objective function to minimize the percentage of total transaction value lost to fraud. At the end of this demo, we also show much better this resulting pipeline performs compared to one trained just on AUC."
   ]
  },
  {
   "cell_type": "code",
   "execution_count": 23,
   "metadata": {},
   "outputs": [],
   "source": [
    "import evalml\n",
    "from evalml.objectives import FraudCost"
   ]
  },
  {
   "cell_type": "markdown",
   "metadata": {},
   "source": [
    "## Configure Fraud Objective\n",
    "\n",
    "To  optimize the pipelines toward the specific business needs of this model, we can set your own assumptions for the cost of fraud. These parameters are\n",
    "\n",
    "* `retry_percentage` - what percentage of customers will retry a transaction if it is declined?\n",
    "* `interchange_fee` - how much of each successfull transaction do you collect?\n",
    "* `fraud_payout_percentage` - how percentage of fraud will you be unable to collect\n",
    "* `amount_col` - the column in the data the represents the transaction amount\n",
    "\n",
    "Using these parameters, EvalML determines attempt to build a pipeline that will minimize the financial loss due to fraud."
   ]
  },
  {
   "cell_type": "code",
   "execution_count": 21,
   "metadata": {},
   "outputs": [],
   "source": [
    "fraud_objective = FraudCost(\n",
    "    retry_percentage=.5,\n",
    "    interchange_fee=.02,\n",
    "    fraud_payout_percentage=.75,\n",
    "    amount_col='amount',  \n",
    ")"
   ]
  },
  {
   "cell_type": "markdown",
   "metadata": {},
   "source": [
    "## Search for best modeling pipeline"
   ]
  },
  {
   "cell_type": "markdown",
   "metadata": {},
   "source": [
    "In order to validate the results of the pipeline creation and optimization process, we will save some of our data as a holdout set"
   ]
  },
  {
   "cell_type": "code",
   "execution_count": 19,
   "metadata": {},
   "outputs": [
    {
     "name": "stdout",
     "output_type": "stream",
     "text": [
      "             Number of Features\n",
      "Boolean                       1\n",
      "Categorical                   6\n",
      "Numeric                       5\n",
      "\n",
      "Number of training examples: 99992\n",
      "\n",
      "Labels\n",
      "False    84.82%\n",
      "True     15.18%\n",
      "Name: fraud, dtype: object\n"
     ]
    }
   ],
   "source": [
    "X, y = evalml.demos.load_fraud()"
   ]
  },
  {
   "cell_type": "code",
   "execution_count": 25,
   "metadata": {},
   "outputs": [],
   "source": [
    "# select numeric data before running AutoClassifer\n",
    "numerics = ['int16', 'int32', 'int64', 'float16', 'float32', 'float64', 'bool']\n",
    "X = X.select_dtypes(include=numerics)\n",
    "X_train, X_holdout, y_train, y_holdout = evalml.preprocessing.split_data(X, y, test_size=.8, random_state=0)"
   ]
  },
  {
   "cell_type": "markdown",
   "metadata": {},
   "source": [
    "Because the fraud labels are binary, we will use `AutoClassifier`. When we call `.fit()`, the search for the best pipeline will begin. "
   ]
  },
  {
   "cell_type": "code",
   "execution_count": 5,
   "metadata": {},
   "outputs": [
    {
     "name": "stdout",
     "output_type": "stream",
     "text": [
      "\u001b[1m*****************************\u001b[0m\n",
      "\u001b[1m* Beginning pipeline search *\u001b[0m\n",
      "\u001b[1m*****************************\u001b[0m\n",
      "\n",
      "Optimizing for Fraud Detection. Lower score is better.\n",
      "\n",
      "Searching up to 10 pipelines. Will stop searching for new pipelines after 120 seconds.\n",
      "\n",
      "Possible model types: xgboost, random_forest, linear_model\n",
      "\n",
      "Testing XGBoost w/ imputation: 100%|██████████| 10/10 [01:30<00:00,  9.05s/it]                    \n",
      "\n",
      "✔ Optimization finished\n"
     ]
    }
   ],
   "source": [
    "clf = evalml.AutoClassifier(objective=fraud_objective,\n",
    "                            max_time=120,\n",
    "                            max_pipelines=10)\n",
    "\n",
    "clf.fit(X_train, y_train)"
   ]
  },
  {
   "cell_type": "markdown",
   "metadata": {},
   "source": [
    "### View rankings and select pipeline\n",
    "\n",
    "Once the fitting process is done, we can see all of the pipelines that were searched, ranked by their score on the fraud detection objective we defined"
   ]
  },
  {
   "cell_type": "code",
   "execution_count": 6,
   "metadata": {},
   "outputs": [
    {
     "data": {
      "text/html": [
       "<div>\n",
       "<style scoped>\n",
       "    .dataframe tbody tr th:only-of-type {\n",
       "        vertical-align: middle;\n",
       "    }\n",
       "\n",
       "    .dataframe tbody tr th {\n",
       "        vertical-align: top;\n",
       "    }\n",
       "\n",
       "    .dataframe thead th {\n",
       "        text-align: right;\n",
       "    }\n",
       "</style>\n",
       "<table border=\"1\" class=\"dataframe\">\n",
       "  <thead>\n",
       "    <tr style=\"text-align: right;\">\n",
       "      <th></th>\n",
       "      <th>id</th>\n",
       "      <th>pipeline_name</th>\n",
       "      <th>score</th>\n",
       "      <th>high_variance_cv</th>\n",
       "      <th>parameters</th>\n",
       "    </tr>\n",
       "  </thead>\n",
       "  <tbody>\n",
       "    <tr>\n",
       "      <th>0</th>\n",
       "      <td>1</td>\n",
       "      <td>XGBoostPipeline</td>\n",
       "      <td>0.007631</td>\n",
       "      <td>False</td>\n",
       "      <td>{'eta': 0.5928446182250184, 'min_child_weight'...</td>\n",
       "    </tr>\n",
       "    <tr>\n",
       "      <th>1</th>\n",
       "      <td>8</td>\n",
       "      <td>RFClassificationPipeline</td>\n",
       "      <td>0.007631</td>\n",
       "      <td>False</td>\n",
       "      <td>{'n_estimators': 609, 'max_depth': 7, 'impute_...</td>\n",
       "    </tr>\n",
       "    <tr>\n",
       "      <th>2</th>\n",
       "      <td>0</td>\n",
       "      <td>RFClassificationPipeline</td>\n",
       "      <td>0.007631</td>\n",
       "      <td>False</td>\n",
       "      <td>{'n_estimators': 569, 'max_depth': 22, 'impute...</td>\n",
       "    </tr>\n",
       "    <tr>\n",
       "      <th>3</th>\n",
       "      <td>2</td>\n",
       "      <td>XGBoostPipeline</td>\n",
       "      <td>0.007631</td>\n",
       "      <td>False</td>\n",
       "      <td>{'eta': 0.38438170729269994, 'min_child_weight...</td>\n",
       "    </tr>\n",
       "    <tr>\n",
       "      <th>4</th>\n",
       "      <td>3</td>\n",
       "      <td>RFClassificationPipeline</td>\n",
       "      <td>0.007631</td>\n",
       "      <td>False</td>\n",
       "      <td>{'n_estimators': 369, 'max_depth': 10, 'impute...</td>\n",
       "    </tr>\n",
       "    <tr>\n",
       "      <th>5</th>\n",
       "      <td>4</td>\n",
       "      <td>XGBoostPipeline</td>\n",
       "      <td>0.007631</td>\n",
       "      <td>False</td>\n",
       "      <td>{'eta': 0.5288949197529046, 'min_child_weight'...</td>\n",
       "    </tr>\n",
       "    <tr>\n",
       "      <th>6</th>\n",
       "      <td>6</td>\n",
       "      <td>XGBoostPipeline</td>\n",
       "      <td>0.007631</td>\n",
       "      <td>False</td>\n",
       "      <td>{'eta': 0.6481718720511973, 'min_child_weight'...</td>\n",
       "    </tr>\n",
       "    <tr>\n",
       "      <th>7</th>\n",
       "      <td>9</td>\n",
       "      <td>XGBoostPipeline</td>\n",
       "      <td>0.007631</td>\n",
       "      <td>False</td>\n",
       "      <td>{'eta': 0.9786183422327642, 'min_child_weight'...</td>\n",
       "    </tr>\n",
       "    <tr>\n",
       "      <th>8</th>\n",
       "      <td>7</td>\n",
       "      <td>LogisticRegressionPipeline</td>\n",
       "      <td>0.007631</td>\n",
       "      <td>False</td>\n",
       "      <td>{'penalty': 'l2', 'C': 6.239401330891865, 'imp...</td>\n",
       "    </tr>\n",
       "    <tr>\n",
       "      <th>9</th>\n",
       "      <td>5</td>\n",
       "      <td>LogisticRegressionPipeline</td>\n",
       "      <td>0.007631</td>\n",
       "      <td>False</td>\n",
       "      <td>{'penalty': 'l2', 'C': 8.444214828324364, 'imp...</td>\n",
       "    </tr>\n",
       "  </tbody>\n",
       "</table>\n",
       "</div>"
      ],
      "text/plain": [
       "   id               pipeline_name     score  high_variance_cv  \\\n",
       "0   1             XGBoostPipeline  0.007631             False   \n",
       "1   8    RFClassificationPipeline  0.007631             False   \n",
       "2   0    RFClassificationPipeline  0.007631             False   \n",
       "3   2             XGBoostPipeline  0.007631             False   \n",
       "4   3    RFClassificationPipeline  0.007631             False   \n",
       "5   4             XGBoostPipeline  0.007631             False   \n",
       "6   6             XGBoostPipeline  0.007631             False   \n",
       "7   9             XGBoostPipeline  0.007631             False   \n",
       "8   7  LogisticRegressionPipeline  0.007631             False   \n",
       "9   5  LogisticRegressionPipeline  0.007631             False   \n",
       "\n",
       "                                          parameters  \n",
       "0  {'eta': 0.5928446182250184, 'min_child_weight'...  \n",
       "1  {'n_estimators': 609, 'max_depth': 7, 'impute_...  \n",
       "2  {'n_estimators': 569, 'max_depth': 22, 'impute...  \n",
       "3  {'eta': 0.38438170729269994, 'min_child_weight...  \n",
       "4  {'n_estimators': 369, 'max_depth': 10, 'impute...  \n",
       "5  {'eta': 0.5288949197529046, 'min_child_weight'...  \n",
       "6  {'eta': 0.6481718720511973, 'min_child_weight'...  \n",
       "7  {'eta': 0.9786183422327642, 'min_child_weight'...  \n",
       "8  {'penalty': 'l2', 'C': 6.239401330891865, 'imp...  \n",
       "9  {'penalty': 'l2', 'C': 8.444214828324364, 'imp...  "
      ]
     },
     "execution_count": 6,
     "metadata": {},
     "output_type": "execute_result"
    }
   ],
   "source": [
    "clf.rankings"
   ]
  },
  {
   "cell_type": "markdown",
   "metadata": {},
   "source": [
    "to select the best pipeline we can run"
   ]
  },
  {
   "cell_type": "code",
   "execution_count": 7,
   "metadata": {},
   "outputs": [],
   "source": [
    "best_pipeline = clf.best_pipeline"
   ]
  },
  {
   "cell_type": "markdown",
   "metadata": {},
   "source": [
    "### Describe pipeline\n",
    "\n",
    "You can get more details about any pipeline. Including how it performed on other objective functions."
   ]
  },
  {
   "cell_type": "code",
   "execution_count": 8,
   "metadata": {},
   "outputs": [
    {
     "name": "stdout",
     "output_type": "stream",
     "text": [
      "\u001b[1m************************\u001b[0m\n",
      "\u001b[1m* Pipeline Description *\u001b[0m\n",
      "\u001b[1m************************\u001b[0m\n",
      "\n",
      "Pipeline Name: XGBoost w/ imputation\n",
      "Model type: xgboost\n",
      "Objective: Fraud Detection (lower is better)\n",
      "Total training time (including CV): 4.7 seconds\n",
      "\n",
      "Parameters\n",
      "==========\n",
      "• eta: 0.5928446182250184\n",
      "• min_child_weight: 8.598391737229157\n",
      "• max_depth: 4\n",
      "• impute_strategy: most_frequent\n",
      "• percent_features: 0.6273280598181127\n",
      "\n",
      "Cross Validation\n",
      "=================\n",
      "        F1  Precision  Recall   AUC  Log Loss  Fraud Detection\n",
      "0    0.264      0.152   0.264 0.500    29.296            0.008\n",
      "1    0.264      0.152   0.264 0.500    29.280            0.008\n",
      "2    0.264      0.152   0.264 0.500    29.296            0.008\n",
      "mean 0.264      0.152   0.264 0.500    29.291            0.008\n",
      "std  0.000      0.000   0.000 0.000     0.009            0.000\n"
     ]
    }
   ],
   "source": [
    "clf.describe_pipeline(1)"
   ]
  },
  {
   "cell_type": "markdown",
   "metadata": {},
   "source": [
    "## Evaluate on hold out\n",
    "\n",
    "Finally, we retrain the best pipeline on all of the training data and evaluate on the holdout"
   ]
  },
  {
   "cell_type": "code",
   "execution_count": 9,
   "metadata": {},
   "outputs": [
    {
     "data": {
      "text/plain": [
       "<evalml.pipelines.classification.xgboost.XGBoostPipeline at 0x1249cde10>"
      ]
     },
     "execution_count": 9,
     "metadata": {},
     "output_type": "execute_result"
    }
   ],
   "source": [
    "best_pipeline.fit(X_train, y_train)"
   ]
  },
  {
   "cell_type": "markdown",
   "metadata": {},
   "source": [
    "Now, we can score the pipeline on the hold out data. "
   ]
  },
  {
   "cell_type": "code",
   "execution_count": 10,
   "metadata": {},
   "outputs": [
    {
     "data": {
      "text/plain": [
       "(0.007625574842707381, [0.5000368454407451])"
      ]
     },
     "execution_count": 10,
     "metadata": {},
     "output_type": "execute_result"
    }
   ],
   "source": [
    "best_pipeline.score(X_holdout, y_holdout, other_objectives=[\"auc\"])"
   ]
  },
  {
   "cell_type": "markdown",
   "metadata": {},
   "source": [
    "## Why optimize for a problem-specific objective?\n",
    "\n",
    "To demonstrate the importance of optimzing for the right objective, let's search for another pipeline using AUC, a common machine learning metric. After that, we will score the holdout data using the fraud cost objective to see how the best pipelines compare."
   ]
  },
  {
   "cell_type": "code",
   "execution_count": 11,
   "metadata": {},
   "outputs": [
    {
     "name": "stdout",
     "output_type": "stream",
     "text": [
      "\u001b[1m*****************************\u001b[0m\n",
      "\u001b[1m* Beginning pipeline search *\u001b[0m\n",
      "\u001b[1m*****************************\u001b[0m\n",
      "\n",
      "Optimizing for AUC. Greater score is better.\n",
      "\n",
      "Searching up to 10 pipelines. Will stop searching for new pipelines after 120 seconds.\n",
      "\n",
      "Possible model types: xgboost, random_forest, linear_model\n",
      "\n",
      "Testing Random Forest w/ imputation: 100%|██████████| 10/10 [01:07<00:00,  6.72s/it]              \n",
      "\n",
      "✔ Optimization finished\n"
     ]
    }
   ],
   "source": [
    "clf = evalml.AutoClassifier(objective='auc',\n",
    "                            max_time=120,\n",
    "                            max_pipelines=10)\n",
    "\n",
    "clf.fit(X_train, y_train)"
   ]
  },
  {
   "cell_type": "markdown",
   "metadata": {},
   "source": [
    "like before, we can look at the rankings and pick the best pipeline"
   ]
  },
  {
   "cell_type": "code",
   "execution_count": 15,
   "metadata": {},
   "outputs": [
    {
     "data": {
      "text/html": [
       "<div>\n",
       "<style scoped>\n",
       "    .dataframe tbody tr th:only-of-type {\n",
       "        vertical-align: middle;\n",
       "    }\n",
       "\n",
       "    .dataframe tbody tr th {\n",
       "        vertical-align: top;\n",
       "    }\n",
       "\n",
       "    .dataframe thead th {\n",
       "        text-align: right;\n",
       "    }\n",
       "</style>\n",
       "<table border=\"1\" class=\"dataframe\">\n",
       "  <thead>\n",
       "    <tr style=\"text-align: right;\">\n",
       "      <th></th>\n",
       "      <th>id</th>\n",
       "      <th>pipeline_name</th>\n",
       "      <th>score</th>\n",
       "      <th>high_variance_cv</th>\n",
       "      <th>parameters</th>\n",
       "    </tr>\n",
       "  </thead>\n",
       "  <tbody>\n",
       "    <tr>\n",
       "      <th>0</th>\n",
       "      <td>6</td>\n",
       "      <td>XGBoostPipeline</td>\n",
       "      <td>0.833904</td>\n",
       "      <td>False</td>\n",
       "      <td>{'eta': 0.38438170729269994, 'min_child_weight...</td>\n",
       "    </tr>\n",
       "    <tr>\n",
       "      <th>1</th>\n",
       "      <td>1</td>\n",
       "      <td>RFClassificationPipeline</td>\n",
       "      <td>0.832827</td>\n",
       "      <td>False</td>\n",
       "      <td>{'n_estimators': 569, 'max_depth': 22, 'impute...</td>\n",
       "    </tr>\n",
       "    <tr>\n",
       "      <th>2</th>\n",
       "      <td>4</td>\n",
       "      <td>XGBoostPipeline</td>\n",
       "      <td>0.832510</td>\n",
       "      <td>False</td>\n",
       "      <td>{'eta': 0.5928446182250184, 'min_child_weight'...</td>\n",
       "    </tr>\n",
       "    <tr>\n",
       "      <th>3</th>\n",
       "      <td>9</td>\n",
       "      <td>RFClassificationPipeline</td>\n",
       "      <td>0.832510</td>\n",
       "      <td>False</td>\n",
       "      <td>{'n_estimators': 609, 'max_depth': 7, 'impute_...</td>\n",
       "    </tr>\n",
       "    <tr>\n",
       "      <th>4</th>\n",
       "      <td>2</td>\n",
       "      <td>RFClassificationPipeline</td>\n",
       "      <td>0.832333</td>\n",
       "      <td>False</td>\n",
       "      <td>{'n_estimators': 369, 'max_depth': 10, 'impute...</td>\n",
       "    </tr>\n",
       "    <tr>\n",
       "      <th>5</th>\n",
       "      <td>0</td>\n",
       "      <td>LogisticRegressionPipeline</td>\n",
       "      <td>0.658597</td>\n",
       "      <td>False</td>\n",
       "      <td>{'penalty': 'l2', 'C': 8.444214828324364, 'imp...</td>\n",
       "    </tr>\n",
       "    <tr>\n",
       "      <th>6</th>\n",
       "      <td>3</td>\n",
       "      <td>LogisticRegressionPipeline</td>\n",
       "      <td>0.658597</td>\n",
       "      <td>False</td>\n",
       "      <td>{'penalty': 'l2', 'C': 6.239401330891865, 'imp...</td>\n",
       "    </tr>\n",
       "    <tr>\n",
       "      <th>7</th>\n",
       "      <td>7</td>\n",
       "      <td>LogisticRegressionPipeline</td>\n",
       "      <td>0.658597</td>\n",
       "      <td>False</td>\n",
       "      <td>{'penalty': 'l2', 'C': 8.123565600467177, 'imp...</td>\n",
       "    </tr>\n",
       "    <tr>\n",
       "      <th>8</th>\n",
       "      <td>8</td>\n",
       "      <td>LogisticRegressionPipeline</td>\n",
       "      <td>0.658597</td>\n",
       "      <td>False</td>\n",
       "      <td>{'penalty': 'l2', 'C': 8.362426847738403, 'imp...</td>\n",
       "    </tr>\n",
       "    <tr>\n",
       "      <th>9</th>\n",
       "      <td>5</td>\n",
       "      <td>LogisticRegressionPipeline</td>\n",
       "      <td>0.656621</td>\n",
       "      <td>False</td>\n",
       "      <td>{'penalty': 'l2', 'C': 0.5765626434012575, 'im...</td>\n",
       "    </tr>\n",
       "  </tbody>\n",
       "</table>\n",
       "</div>"
      ],
      "text/plain": [
       "   id               pipeline_name     score  high_variance_cv  \\\n",
       "0   6             XGBoostPipeline  0.833904             False   \n",
       "1   1    RFClassificationPipeline  0.832827             False   \n",
       "2   4             XGBoostPipeline  0.832510             False   \n",
       "3   9    RFClassificationPipeline  0.832510             False   \n",
       "4   2    RFClassificationPipeline  0.832333             False   \n",
       "5   0  LogisticRegressionPipeline  0.658597             False   \n",
       "6   3  LogisticRegressionPipeline  0.658597             False   \n",
       "7   7  LogisticRegressionPipeline  0.658597             False   \n",
       "8   8  LogisticRegressionPipeline  0.658597             False   \n",
       "9   5  LogisticRegressionPipeline  0.656621             False   \n",
       "\n",
       "                                          parameters  \n",
       "0  {'eta': 0.38438170729269994, 'min_child_weight...  \n",
       "1  {'n_estimators': 569, 'max_depth': 22, 'impute...  \n",
       "2  {'eta': 0.5928446182250184, 'min_child_weight'...  \n",
       "3  {'n_estimators': 609, 'max_depth': 7, 'impute_...  \n",
       "4  {'n_estimators': 369, 'max_depth': 10, 'impute...  \n",
       "5  {'penalty': 'l2', 'C': 8.444214828324364, 'imp...  \n",
       "6  {'penalty': 'l2', 'C': 6.239401330891865, 'imp...  \n",
       "7  {'penalty': 'l2', 'C': 8.123565600467177, 'imp...  \n",
       "8  {'penalty': 'l2', 'C': 8.362426847738403, 'imp...  \n",
       "9  {'penalty': 'l2', 'C': 0.5765626434012575, 'im...  "
      ]
     },
     "execution_count": 15,
     "metadata": {},
     "output_type": "execute_result"
    }
   ],
   "source": [
    "clf.rankings"
   ]
  },
  {
   "cell_type": "code",
   "execution_count": 18,
   "metadata": {},
   "outputs": [
    {
     "name": "stdout",
     "output_type": "stream",
     "text": [
      "\u001b[1m************************\u001b[0m\n",
      "\u001b[1m* Pipeline Description *\u001b[0m\n",
      "\u001b[1m************************\u001b[0m\n",
      "\n",
      "Pipeline Name: Random Forest w/ imputation\n",
      "Model type: random_forest\n",
      "Objective: AUC (greater is better)\n",
      "Total training time (including CV): 23.6 seconds\n",
      "\n",
      "Parameters\n",
      "==========\n",
      "• n_estimators: 569\n",
      "• max_depth: 22\n",
      "• impute_strategy: most_frequent\n",
      "• percent_features: 0.8593661614465293\n",
      "\n",
      "Cross Validation\n",
      "=================\n",
      "        F1  Precision  Recall   AUC  Log Loss\n",
      "0    0.814      1.000   0.814 0.843     1.648\n",
      "1    0.812      1.000   0.812 0.842     1.658\n",
      "2    0.799      0.997   0.799 0.833     1.762\n",
      "mean 0.808      0.999   0.808 0.839     1.689\n",
      "std  0.008      0.002   0.008 0.006     0.063\n"
     ]
    }
   ],
   "source": [
    "clf.describe_pipeline(1)"
   ]
  },
  {
   "cell_type": "code",
   "execution_count": 16,
   "metadata": {},
   "outputs": [
    {
     "data": {
      "text/plain": [
       "<evalml.pipelines.classification.xgboost.XGBoostPipeline at 0x124e1b5f8>"
      ]
     },
     "execution_count": 16,
     "metadata": {},
     "output_type": "execute_result"
    }
   ],
   "source": [
    "best_pipeline_auc = clf.best_pipeline\n",
    "\n",
    "# train on the full training data\n",
    "best_pipeline_auc.fit(X_train, y_train)"
   ]
  },
  {
   "cell_type": "code",
   "execution_count": 17,
   "metadata": {},
   "outputs": [
    {
     "data": {
      "text/plain": [
       "0.03433982479902143"
      ]
     },
     "execution_count": 17,
     "metadata": {},
     "output_type": "execute_result"
    }
   ],
   "source": [
    "# get the fraud score on holdout data\n",
    "score, [fraud_score] = best_pipeline_auc.score(X_holdout, y_holdout, other_objectives=[fraud_objective])\n",
    "fraud_score"
   ]
  },
  {
   "cell_type": "markdown",
   "metadata": {},
   "source": [
    "We can see that in the model optimized for AUC we lose ~3% of transaction amount to fraud compared to under 1% when we optmize for it specifically. \n",
    "\n",
    "This is because the AUC doesn't take into account that before labeling a transaction as fraud or not, we need to take into account the cost/benifiet of that decision taking into acount things like the amount of the transaction. "
   ]
  }
 ],
 "metadata": {
  "kernelspec": {
   "display_name": "Python 3",
   "language": "python",
   "name": "python3"
  },
  "language_info": {
   "codemirror_mode": {
    "name": "ipython",
    "version": 3
   },
   "file_extension": ".py",
   "mimetype": "text/x-python",
   "name": "python",
   "nbconvert_exporter": "python",
   "pygments_lexer": "ipython3",
   "version": "3.6.8"
  }
 },
 "nbformat": 4,
 "nbformat_minor": 4
}
