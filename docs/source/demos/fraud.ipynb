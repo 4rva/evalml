{
 "cells": [
  {
   "cell_type": "markdown",
   "metadata": {},
   "source": [
    "# Building a Fraud Prediction Model with EvalML\n",
    "\n",
    "In this demo, we will build an optimized fraud prediction model using EvalML. To optimize the pipeline, we will set up an objective function to minimize the percentage of total transaction value lost to fraud. At the end of this demo, we also show you how introducing the right objective during the training is over 4x better than using a generic machine learning metric like AUC."
   ]
  },
  {
   "cell_type": "code",
   "execution_count": 1,
   "metadata": {},
   "outputs": [],
   "source": [
    "import evalml\n",
    "from evalml import AutoMLSearch\n",
    "from evalml.objectives import FraudCost"
   ]
  },
  {
   "cell_type": "markdown",
   "metadata": {},
   "source": [
    "## Configure \"Cost of Fraud\" \n",
    "\n",
    "To optimize the pipelines toward the specific business needs of this model, you can set your own assumptions for the cost of fraud. These parameters are\n",
    "\n",
    "* `retry_percentage` - what percentage of customers will retry a transaction if it is declined?\n",
    "* `interchange_fee` - how much of each successful transaction do you collect?\n",
    "* `fraud_payout_percentage` - the percentage of fraud will you be unable to collect\n",
    "* `amount_col` - the column in the data the represents the transaction amount\n",
    "\n",
    "Using these parameters, EvalML determines attempt to build a pipeline that will minimize the financial loss due to fraud."
   ]
  },
  {
   "cell_type": "code",
   "execution_count": 2,
   "metadata": {},
   "outputs": [],
   "source": [
    "fraud_objective = FraudCost(retry_percentage=.5,\n",
    "                            interchange_fee=.02,\n",
    "                            fraud_payout_percentage=.75,\n",
    "                            amount_col='amount')"
   ]
  },
  {
   "cell_type": "markdown",
   "metadata": {},
   "source": [
    "## Search for best pipeline"
   ]
  },
  {
   "cell_type": "markdown",
   "metadata": {},
   "source": [
    "In order to validate the results of the pipeline creation and optimization process, we will save some of our data as a holdout set"
   ]
  },
  {
   "cell_type": "code",
   "execution_count": 3,
   "metadata": {},
   "outputs": [
    {
     "name": "stdout",
     "output_type": "stream",
     "text": [
      "             Number of Features\n",
      "Boolean                       1\n",
      "Categorical                   6\n",
      "Numeric                       5\n",
      "\n",
      "Number of training examples: 2500\n",
      "Labels\n",
      "False    85.92%\n",
      "True     14.08%\n",
      "Name: fraud, dtype: object\n"
     ]
    }
   ],
   "source": [
    "X, y = evalml.demos.load_fraud(n_rows=2500)"
   ]
  },
  {
   "cell_type": "markdown",
   "metadata": {},
   "source": [
    "EvalML natively supports one-hot encoding. Here we keep 1 out of the 6 categorical columns to decrease computation time."
   ]
  },
  {
   "cell_type": "code",
   "execution_count": 4,
   "metadata": {},
   "outputs": [
    {
     "name": "stdout",
     "output_type": "stream",
     "text": [
      "card_id               int64\n",
      "store_id              int64\n",
      "amount                int64\n",
      "currency             object\n",
      "customer_present       bool\n",
      "lat                 float64\n",
      "lng                 float64\n",
      "dtype: object\n"
     ]
    }
   ],
   "source": [
    "X = X.drop(['datetime', 'expiration_date', 'country', 'region', 'provider'], axis=1)\n",
    "\n",
    "X_train, X_holdout, y_train, y_holdout = evalml.preprocessing.split_data(X, y, test_size=0.2, random_state=0)\n",
    "\n",
    "print(X.dtypes)"
   ]
  },
  {
   "cell_type": "markdown",
   "metadata": {},
   "source": [
    "Because the fraud labels are binary, we will use `AutoMLSearch(problem_type='binary')`. When we call `.search()`, the search for the best pipeline will begin. "
   ]
  },
  {
   "cell_type": "code",
   "execution_count": 5,
   "metadata": {},
   "outputs": [
    {
     "name": "stdout",
     "output_type": "stream",
     "text": [
      "Generating pipelines to search over...\n",
      "*****************************\n",
      "* Beginning pipeline search *\n",
      "*****************************\n",
      "\n",
      "Optimizing for Fraud Cost. \n",
      "Lower score is better.\n",
      "\n",
      "Searching up to 5 pipelines. \n",
      "Allowed model families: linear_model, catboost, random_forest, xgboost\n",
      "\n"
     ]
    },
    {
     "data": {
      "application/vnd.jupyter.widget-view+json": {
       "model_id": "9ecb3f4fcc8949fa9a7658ef12daeb3f",
       "version_major": 2,
       "version_minor": 0
      },
      "text/plain": [
       "FigureWidget({\n",
       "    'data': [{'mode': 'lines+markers',\n",
       "              'name': 'Best Score',\n",
       "              'type'…"
      ]
     },
     "metadata": {},
     "output_type": "display_data"
    },
    {
     "name": "stdout",
     "output_type": "stream",
     "text": [
      "(1/5) Mode Baseline Binary Classification P... Elapsed:00:00\n",
      "\tStarting cross validation\n",
      "\tFinished cross validation - mean Fraud Cost: 0.002\n",
      "(2/5) CatBoost Classifier w/ Simple Imputer    Elapsed:00:00\n",
      "\tStarting cross validation\n",
      "\tFinished cross validation - mean Fraud Cost: 0.011\n",
      "(3/5) XGBoost Classifier w/ Simple Imputer ... Elapsed:00:20\n",
      "\tStarting cross validation\n",
      "\tFinished cross validation - mean Fraud Cost: 0.007\n",
      "(4/5) Random Forest Classifier w/ Simple Im... Elapsed:00:21\n",
      "\tStarting cross validation\n",
      "\tFinished cross validation - mean Fraud Cost: 0.002\n",
      "(5/5) Logistic Regression Classifier w/ Sim... Elapsed:00:23\n",
      "\tStarting cross validation\n",
      "\tFinished cross validation - mean Fraud Cost: 0.016\n",
      "\n",
      "Search finished after 00:25            \n",
      "Best pipeline: Mode Baseline Binary Classification Pipeline\n",
      "Best pipeline Fraud Cost: 0.002316\n"
     ]
    }
   ],
   "source": [
    "automl = AutoMLSearch(problem_type='binary', \n",
    "                      objective=fraud_objective,\n",
    "                      additional_objectives=['auc', 'f1', 'precision'],\n",
    "                      max_pipelines=5,\n",
    "                      optimize_thresholds=True)\n",
    "\n",
    "automl.search(X_train, y_train)"
   ]
  },
  {
   "cell_type": "markdown",
   "metadata": {},
   "source": [
    "### View rankings and select pipeline\n",
    "\n",
    "Once the fitting process is done, we can see all of the pipelines that were searched, ranked by their score on the fraud detection objective we defined"
   ]
  },
  {
   "cell_type": "code",
   "execution_count": 6,
   "metadata": {},
   "outputs": [
    {
     "data": {
      "text/html": [
       "<div>\n",
       "<style scoped>\n",
       "    .dataframe tbody tr th:only-of-type {\n",
       "        vertical-align: middle;\n",
       "    }\n",
       "\n",
       "    .dataframe tbody tr th {\n",
       "        vertical-align: top;\n",
       "    }\n",
       "\n",
       "    .dataframe thead th {\n",
       "        text-align: right;\n",
       "    }\n",
       "</style>\n",
       "<table border=\"1\" class=\"dataframe\">\n",
       "  <thead>\n",
       "    <tr style=\"text-align: right;\">\n",
       "      <th></th>\n",
       "      <th>id</th>\n",
       "      <th>pipeline_name</th>\n",
       "      <th>score</th>\n",
       "      <th>high_variance_cv</th>\n",
       "      <th>parameters</th>\n",
       "    </tr>\n",
       "  </thead>\n",
       "  <tbody>\n",
       "    <tr>\n",
       "      <th>0</th>\n",
       "      <td>0</td>\n",
       "      <td>Mode Baseline Binary Classification Pipeline</td>\n",
       "      <td>0.002316</td>\n",
       "      <td>False</td>\n",
       "      <td>{'Baseline Classifier': {'strategy': 'random_w...</td>\n",
       "    </tr>\n",
       "    <tr>\n",
       "      <th>1</th>\n",
       "      <td>3</td>\n",
       "      <td>Random Forest Classifier w/ Simple Imputer + O...</td>\n",
       "      <td>0.002316</td>\n",
       "      <td>False</td>\n",
       "      <td>{'Simple Imputer': {'impute_strategy': 'most_f...</td>\n",
       "    </tr>\n",
       "    <tr>\n",
       "      <th>2</th>\n",
       "      <td>2</td>\n",
       "      <td>XGBoost Classifier w/ Simple Imputer + One Hot...</td>\n",
       "      <td>0.007152</td>\n",
       "      <td>True</td>\n",
       "      <td>{'Simple Imputer': {'impute_strategy': 'most_f...</td>\n",
       "    </tr>\n",
       "    <tr>\n",
       "      <th>3</th>\n",
       "      <td>1</td>\n",
       "      <td>CatBoost Classifier w/ Simple Imputer</td>\n",
       "      <td>0.011063</td>\n",
       "      <td>True</td>\n",
       "      <td>{'Simple Imputer': {'impute_strategy': 'most_f...</td>\n",
       "    </tr>\n",
       "    <tr>\n",
       "      <th>4</th>\n",
       "      <td>4</td>\n",
       "      <td>Logistic Regression Classifier w/ Simple Imput...</td>\n",
       "      <td>0.015898</td>\n",
       "      <td>True</td>\n",
       "      <td>{'Simple Imputer': {'impute_strategy': 'most_f...</td>\n",
       "    </tr>\n",
       "  </tbody>\n",
       "</table>\n",
       "</div>"
      ],
      "text/plain": [
       "   id                                      pipeline_name     score  \\\n",
       "0   0       Mode Baseline Binary Classification Pipeline  0.002316   \n",
       "1   3  Random Forest Classifier w/ Simple Imputer + O...  0.002316   \n",
       "2   2  XGBoost Classifier w/ Simple Imputer + One Hot...  0.007152   \n",
       "3   1              CatBoost Classifier w/ Simple Imputer  0.011063   \n",
       "4   4  Logistic Regression Classifier w/ Simple Imput...  0.015898   \n",
       "\n",
       "   high_variance_cv                                         parameters  \n",
       "0             False  {'Baseline Classifier': {'strategy': 'random_w...  \n",
       "1             False  {'Simple Imputer': {'impute_strategy': 'most_f...  \n",
       "2              True  {'Simple Imputer': {'impute_strategy': 'most_f...  \n",
       "3              True  {'Simple Imputer': {'impute_strategy': 'most_f...  \n",
       "4              True  {'Simple Imputer': {'impute_strategy': 'most_f...  "
      ]
     },
     "execution_count": 6,
     "metadata": {},
     "output_type": "execute_result"
    }
   ],
   "source": [
    "automl.rankings"
   ]
  },
  {
   "cell_type": "markdown",
   "metadata": {},
   "source": [
    "to select the best pipeline we can run"
   ]
  },
  {
   "cell_type": "code",
   "execution_count": 7,
   "metadata": {},
   "outputs": [],
   "source": [
    "best_pipeline = automl.best_pipeline"
   ]
  },
  {
   "cell_type": "markdown",
   "metadata": {},
   "source": [
    "### Describe pipeline\n",
    "\n",
    "You can get more details about any pipeline. Including how it performed on other objective functions."
   ]
  },
  {
   "cell_type": "code",
   "execution_count": 8,
   "metadata": {},
   "outputs": [
    {
     "name": "stdout",
     "output_type": "stream",
     "text": [
      "****************************************************************\n",
      "* Random Forest Classifier w/ Simple Imputer + One Hot Encoder *\n",
      "****************************************************************\n",
      "\n",
      "Problem Type: Binary Classification\n",
      "Model Family: Random Forest\n",
      "\n",
      "Pipeline Steps\n",
      "==============\n",
      "1. Simple Imputer\n",
      "\t * impute_strategy : most_frequent\n",
      "\t * fill_value : None\n",
      "2. One Hot Encoder\n",
      "\t * top_n : 10\n",
      "\t * categories : None\n",
      "\t * drop : None\n",
      "\t * handle_unknown : ignore\n",
      "\t * handle_missing : error\n",
      "3. Random Forest Classifier\n",
      "\t * n_estimators : 100\n",
      "\t * max_depth : 6\n",
      "\t * n_jobs : -1\n",
      "\n",
      "Training\n",
      "========\n",
      "Training for Binary Classification problems.\n",
      "Objective to optimize binary classification pipeline thresholds for: <evalml.objectives.fraud_cost.FraudCost object at 0x153777fa0>\n",
      "Total training time (including CV): 1.8 seconds\n",
      "\n",
      "Cross Validation\n",
      "----------------\n",
      "             Fraud Cost   AUC    F1  Precision # Training # Testing\n",
      "0                 0.002 0.859 0.247      0.141   1066.000   667.000\n",
      "1                 0.002 0.858 0.247      0.141   1066.000   667.000\n",
      "2                 0.002 0.856 0.247      0.141   1067.000   666.000\n",
      "mean              0.002 0.858 0.247      0.141          -         -\n",
      "std               0.000 0.002 0.000      0.000          -         -\n",
      "coef of var       0.055 0.002 0.001      0.001          -         -\n"
     ]
    }
   ],
   "source": [
    "automl.describe_pipeline(automl.rankings.iloc[1][\"id\"])"
   ]
  },
  {
   "cell_type": "markdown",
   "metadata": {},
   "source": [
    "## Evaluate on hold out\n",
    "\n",
    "Finally, we retrain the best pipeline on all of the training data and evaluate on the holdout"
   ]
  },
  {
   "cell_type": "code",
   "execution_count": 9,
   "metadata": {},
   "outputs": [
    {
     "data": {
      "text/plain": [
       "<evalml.pipelines.classification.baseline_binary.ModeBaselineBinaryPipeline at 0x154ead430>"
      ]
     },
     "execution_count": 9,
     "metadata": {},
     "output_type": "execute_result"
    }
   ],
   "source": [
    "best_pipeline.fit(X_train, y_train)"
   ]
  },
  {
   "cell_type": "markdown",
   "metadata": {},
   "source": [
    "Now, we can score the pipeline on the hold out data using both the fraud cost score and the AUC."
   ]
  },
  {
   "cell_type": "code",
   "execution_count": 10,
   "metadata": {},
   "outputs": [
    {
     "data": {
      "text/plain": [
       "OrderedDict([('AUC', 0.5), ('Fraud Cost', 0.016036197878507734)])"
      ]
     },
     "execution_count": 10,
     "metadata": {},
     "output_type": "execute_result"
    }
   ],
   "source": [
    "best_pipeline.score(X_holdout, y_holdout, objectives=[\"auc\", fraud_objective])"
   ]
  },
  {
   "cell_type": "markdown",
   "metadata": {},
   "source": [
    "## Why optimize for a problem-specific objective?\n",
    "\n",
    "To demonstrate the importance of optimizing for the right objective, let's search for another pipeline using AUC, a common machine learning metric. After that, we will score the holdout data using the fraud cost objective to see how the best pipelines compare."
   ]
  },
  {
   "cell_type": "code",
   "execution_count": 11,
   "metadata": {},
   "outputs": [
    {
     "name": "stdout",
     "output_type": "stream",
     "text": [
      "Generating pipelines to search over...\n",
      "*****************************\n",
      "* Beginning pipeline search *\n",
      "*****************************\n",
      "\n",
      "Optimizing for AUC. \n",
      "Greater score is better.\n",
      "\n",
      "Searching up to 5 pipelines. \n",
      "Allowed model families: linear_model, catboost, random_forest, xgboost\n",
      "\n"
     ]
    },
    {
     "data": {
      "application/vnd.jupyter.widget-view+json": {
       "model_id": "bda215c030544db4af78e8abbb7a9b05",
       "version_major": 2,
       "version_minor": 0
      },
      "text/plain": [
       "FigureWidget({\n",
       "    'data': [{'mode': 'lines+markers',\n",
       "              'name': 'Best Score',\n",
       "              'type'…"
      ]
     },
     "metadata": {},
     "output_type": "display_data"
    },
    {
     "name": "stdout",
     "output_type": "stream",
     "text": [
      "(1/5) Mode Baseline Binary Classification P... Elapsed:00:00\n",
      "\tStarting cross validation\n",
      "\tFinished cross validation - mean AUC: 0.500\n",
      "(2/5) CatBoost Classifier w/ Simple Imputer    Elapsed:00:00\n",
      "\tStarting cross validation\n",
      "\tFinished cross validation - mean AUC: 0.839\n",
      "(3/5) XGBoost Classifier w/ Simple Imputer ... Elapsed:00:22\n",
      "\tStarting cross validation\n",
      "\tFinished cross validation - mean AUC: 0.852\n",
      "(4/5) Random Forest Classifier w/ Simple Im... Elapsed:00:24\n",
      "\tStarting cross validation\n",
      "\tFinished cross validation - mean AUC: 0.853\n",
      "(5/5) Logistic Regression Classifier w/ Sim... Elapsed:00:25\n",
      "\tStarting cross validation\n",
      "\tFinished cross validation - mean AUC: 0.806\n",
      "\n",
      "Search finished after 00:28            \n",
      "Best pipeline: Random Forest Classifier w/ Simple Imputer + One Hot Encoder\n",
      "Best pipeline AUC: 0.853449\n"
     ]
    }
   ],
   "source": [
    "automl_auc = AutoMLSearch(problem_type='binary',\n",
    "                          objective='auc',\n",
    "                          additional_objectives=['f1', 'precision'],\n",
    "                          max_pipelines=5,\n",
    "                          optimize_thresholds=True)\n",
    "\n",
    "automl_auc.search(X_train, y_train)"
   ]
  },
  {
   "cell_type": "markdown",
   "metadata": {},
   "source": [
    "like before, we can look at the rankings and pick the best pipeline"
   ]
  },
  {
   "cell_type": "code",
   "execution_count": 12,
   "metadata": {},
   "outputs": [
    {
     "data": {
      "text/html": [
       "<div>\n",
       "<style scoped>\n",
       "    .dataframe tbody tr th:only-of-type {\n",
       "        vertical-align: middle;\n",
       "    }\n",
       "\n",
       "    .dataframe tbody tr th {\n",
       "        vertical-align: top;\n",
       "    }\n",
       "\n",
       "    .dataframe thead th {\n",
       "        text-align: right;\n",
       "    }\n",
       "</style>\n",
       "<table border=\"1\" class=\"dataframe\">\n",
       "  <thead>\n",
       "    <tr style=\"text-align: right;\">\n",
       "      <th></th>\n",
       "      <th>id</th>\n",
       "      <th>pipeline_name</th>\n",
       "      <th>score</th>\n",
       "      <th>high_variance_cv</th>\n",
       "      <th>parameters</th>\n",
       "    </tr>\n",
       "  </thead>\n",
       "  <tbody>\n",
       "    <tr>\n",
       "      <th>0</th>\n",
       "      <td>3</td>\n",
       "      <td>Random Forest Classifier w/ Simple Imputer + O...</td>\n",
       "      <td>0.853449</td>\n",
       "      <td>False</td>\n",
       "      <td>{'Simple Imputer': {'impute_strategy': 'most_f...</td>\n",
       "    </tr>\n",
       "    <tr>\n",
       "      <th>1</th>\n",
       "      <td>2</td>\n",
       "      <td>XGBoost Classifier w/ Simple Imputer + One Hot...</td>\n",
       "      <td>0.851945</td>\n",
       "      <td>False</td>\n",
       "      <td>{'Simple Imputer': {'impute_strategy': 'most_f...</td>\n",
       "    </tr>\n",
       "    <tr>\n",
       "      <th>2</th>\n",
       "      <td>1</td>\n",
       "      <td>CatBoost Classifier w/ Simple Imputer</td>\n",
       "      <td>0.839414</td>\n",
       "      <td>False</td>\n",
       "      <td>{'Simple Imputer': {'impute_strategy': 'most_f...</td>\n",
       "    </tr>\n",
       "    <tr>\n",
       "      <th>3</th>\n",
       "      <td>4</td>\n",
       "      <td>Logistic Regression Classifier w/ Simple Imput...</td>\n",
       "      <td>0.806086</td>\n",
       "      <td>False</td>\n",
       "      <td>{'Simple Imputer': {'impute_strategy': 'most_f...</td>\n",
       "    </tr>\n",
       "    <tr>\n",
       "      <th>4</th>\n",
       "      <td>0</td>\n",
       "      <td>Mode Baseline Binary Classification Pipeline</td>\n",
       "      <td>0.500000</td>\n",
       "      <td>False</td>\n",
       "      <td>{'Baseline Classifier': {'strategy': 'random_w...</td>\n",
       "    </tr>\n",
       "  </tbody>\n",
       "</table>\n",
       "</div>"
      ],
      "text/plain": [
       "   id                                      pipeline_name     score  \\\n",
       "0   3  Random Forest Classifier w/ Simple Imputer + O...  0.853449   \n",
       "1   2  XGBoost Classifier w/ Simple Imputer + One Hot...  0.851945   \n",
       "2   1              CatBoost Classifier w/ Simple Imputer  0.839414   \n",
       "3   4  Logistic Regression Classifier w/ Simple Imput...  0.806086   \n",
       "4   0       Mode Baseline Binary Classification Pipeline  0.500000   \n",
       "\n",
       "   high_variance_cv                                         parameters  \n",
       "0             False  {'Simple Imputer': {'impute_strategy': 'most_f...  \n",
       "1             False  {'Simple Imputer': {'impute_strategy': 'most_f...  \n",
       "2             False  {'Simple Imputer': {'impute_strategy': 'most_f...  \n",
       "3             False  {'Simple Imputer': {'impute_strategy': 'most_f...  \n",
       "4             False  {'Baseline Classifier': {'strategy': 'random_w...  "
      ]
     },
     "execution_count": 12,
     "metadata": {},
     "output_type": "execute_result"
    }
   ],
   "source": [
    "automl_auc.rankings"
   ]
  },
  {
   "cell_type": "code",
   "execution_count": 13,
   "metadata": {},
   "outputs": [
    {
     "data": {
      "text/plain": [
       "<evalml.pipelines.utils.make_pipeline.<locals>.GeneratedPipeline at 0x12df37790>"
      ]
     },
     "execution_count": 13,
     "metadata": {},
     "output_type": "execute_result"
    }
   ],
   "source": [
    "best_pipeline_auc = automl_auc.best_pipeline\n",
    "\n",
    "# train on the full training data\n",
    "best_pipeline_auc.fit(X_train, y_train)"
   ]
  },
  {
   "cell_type": "code",
   "execution_count": 14,
   "metadata": {},
   "outputs": [
    {
     "data": {
      "text/plain": [
       "OrderedDict([('AUC', 0.8306312292358804),\n",
       "             ('Fraud Cost', 0.004329350526560073)])"
      ]
     },
     "execution_count": 14,
     "metadata": {},
     "output_type": "execute_result"
    }
   ],
   "source": [
    "# get the fraud score on holdout data\n",
    "best_pipeline_auc.score(X_holdout, y_holdout,  objectives=[\"auc\", fraud_objective])"
   ]
  },
  {
   "cell_type": "code",
   "execution_count": 15,
   "metadata": {},
   "outputs": [
    {
     "data": {
      "text/plain": [
       "OrderedDict([('AUC', 0.5), ('Fraud Cost', 0.01126539759779717)])"
      ]
     },
     "execution_count": 15,
     "metadata": {},
     "output_type": "execute_result"
    }
   ],
   "source": [
    "# fraud score on fraud optimized again\n",
    "best_pipeline.score(X_holdout, y_holdout, objectives=[\"auc\", fraud_objective])"
   ]
  },
  {
   "cell_type": "markdown",
   "metadata": {},
   "source": [
    "When we optimize for AUC, we can see that the AUC score from this pipeline is better than the AUC score from the pipeline optimized for fraud cost. However, the losses due to fraud are over 3% of the total transaction amount when optimized for AUC and under 1% when optimized for fraud cost. As a result, we lose more than 2% of the total transaction amount by not optimizing for fraud cost specifically.\n",
    "\n",
    "This happens because optimizing for AUC does not take into account the user-specified `retry_percentage`, `interchange_fee`, `fraud_payout_percentage` values. Thus, the best pipelines may produce the highest AUC but may not actually reduce the amount loss due to your specific type fraud.\n",
    "\n",
    "This example highlights how performance in the real world can diverge greatly from machine learning metrics."
   ]
  }
 ],
 "metadata": {
  "kernelspec": {
   "display_name": "Python 3",
   "language": "python",
   "name": "python3"
  },
  "language_info": {
   "codemirror_mode": {
    "name": "ipython",
    "version": 3
   },
   "file_extension": ".py",
   "mimetype": "text/x-python",
   "name": "python",
   "nbconvert_exporter": "python",
   "pygments_lexer": "ipython3",
   "version": "3.8.2"
  }
 },
 "nbformat": 4,
 "nbformat_minor": 4
}
