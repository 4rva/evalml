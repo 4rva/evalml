{
 "cells": [
  {
   "cell_type": "markdown",
   "metadata": {},
   "source": [
    "# Building a Fraud Prediction Model with EvalML\n",
    "\n",
    "In this demo, we will build an optimized fraud prediction model using EvalML. To optimize the model we will set up an objective function based on some assumptions about our business. "
   ]
  },
  {
   "cell_type": "code",
   "execution_count": 1,
   "metadata": {},
   "outputs": [],
   "source": [
    "%load_ext autoreload\n",
    "%autoreload 2\n",
    "import evalml\n",
    "from evalml.objectives import FraudCost\n",
    "from evalml.preprocessing import split_data"
   ]
  },
  {
   "cell_type": "markdown",
   "metadata": {},
   "source": [
    "## Load Transactions"
   ]
  },
  {
   "cell_type": "code",
   "execution_count": 2,
   "metadata": {},
   "outputs": [
    {
     "name": "stdout",
     "output_type": "stream",
     "text": [
      "             Number of Features\n",
      "Boolean                       1\n",
      "Categorical                   6\n",
      "Numeric                       5\n",
      "\n",
      "Number of training examples: 99992\n",
      "\n",
      "Labels\n",
      "False    84.82%\n",
      "True     15.18%\n",
      "Name: fraud, dtype: object\n"
     ]
    }
   ],
   "source": [
    "X, y = evalml.demos.load_fraud()"
   ]
  },
  {
   "cell_type": "markdown",
   "metadata": {},
   "source": [
    "## Define Objective"
   ]
  },
  {
   "cell_type": "code",
   "execution_count": 3,
   "metadata": {},
   "outputs": [],
   "source": [
    "fraud_objective = FraudCost(\n",
    "    retry_percentage=.5,\n",
    "    interchange_fee=.02,\n",
    "    fraud_payout_percentage=.75,\n",
    "    amount_col='amount'\n",
    ")"
   ]
  },
  {
   "cell_type": "markdown",
   "metadata": {},
   "source": [
    "## Search for best modeling pipeline"
   ]
  },
  {
   "cell_type": "markdown",
   "metadata": {},
   "source": [
    "In order to validate the results of the pipeline creation and optimization process, we will save some of our data as a holdout set"
   ]
  },
  {
   "cell_type": "code",
   "execution_count": 4,
   "metadata": {},
   "outputs": [],
   "source": [
    "numerics = ['int16', 'int32', 'int64', 'float16', 'float32', 'float64', 'bool']\n",
    "X = X.select_dtypes(include=numerics)\n",
    "X_train, X_holdout, y_train, y_holdout = split_data(X, y, test_size=.8, random_state=0)"
   ]
  },
  {
   "cell_type": "markdown",
   "metadata": {},
   "source": [
    "Because the fraud labels are binary, we will use `AutoClassifier`. When we call `.fit()`, the search for the best pipeline will begin. "
   ]
  },
  {
   "cell_type": "code",
   "execution_count": 5,
   "metadata": {},
   "outputs": [
    {
     "name": "stdout",
     "output_type": "stream",
     "text": [
      "\u001b[1m*****************************\u001b[0m\n",
      "\u001b[1m* Beginning pipeline search *\u001b[0m\n",
      "\u001b[1m*****************************\u001b[0m\n",
      "\n",
      "Optimizing for Fraud Cost. Lower score is better.\n",
      "\n",
      "Searching up to 20 pipelines. Will stop searching for new pipelines after 120 seconds.\n",
      "\n",
      "Possible model types: linear_model, xgboost, random_forest\n",
      "\n",
      "Testing XGBoost w/ imputation: 100%|██████████| 20/20 [02:02<00:00,  6.11s/it]                     \n",
      "\n",
      "✔ Optimization finished\n"
     ]
    }
   ],
   "source": [
    "clf = evalml.AutoClassifier(objective=fraud_objective,\n",
    "                            max_time=120,\n",
    "                            max_pipelines=20)\n",
    "\n",
    "clf.fit(X_train, y_train)"
   ]
  },
  {
   "cell_type": "markdown",
   "metadata": {},
   "source": [
    "### View rankings and select pipeline\n",
    "\n",
    "Once the fitting process is done, we can see all of the pipelines that were searched, ranked by their score on the objective function we defined"
   ]
  },
  {
   "cell_type": "code",
   "execution_count": 6,
   "metadata": {},
   "outputs": [
    {
     "data": {
      "text/html": [
       "<div>\n",
       "<style scoped>\n",
       "    .dataframe tbody tr th:only-of-type {\n",
       "        vertical-align: middle;\n",
       "    }\n",
       "\n",
       "    .dataframe tbody tr th {\n",
       "        vertical-align: top;\n",
       "    }\n",
       "\n",
       "    .dataframe thead th {\n",
       "        text-align: right;\n",
       "    }\n",
       "</style>\n",
       "<table border=\"1\" class=\"dataframe\">\n",
       "  <thead>\n",
       "    <tr style=\"text-align: right;\">\n",
       "      <th></th>\n",
       "      <th>id</th>\n",
       "      <th>pipeline_name</th>\n",
       "      <th>score</th>\n",
       "      <th>high_variance_cv</th>\n",
       "      <th>parameters</th>\n",
       "    </tr>\n",
       "  </thead>\n",
       "  <tbody>\n",
       "    <tr>\n",
       "      <td>0</td>\n",
       "      <td>18</td>\n",
       "      <td>XGBoostPipeline</td>\n",
       "      <td>0.007614</td>\n",
       "      <td>False</td>\n",
       "      <td>{'eta': 0.1496748671836832, 'min_child_weight'...</td>\n",
       "    </tr>\n",
       "    <tr>\n",
       "      <td>1</td>\n",
       "      <td>14</td>\n",
       "      <td>RFClassificationPipeline</td>\n",
       "      <td>0.007614</td>\n",
       "      <td>False</td>\n",
       "      <td>{'n_estimators': 609, 'max_depth': 7, 'impute_...</td>\n",
       "    </tr>\n",
       "    <tr>\n",
       "      <td>2</td>\n",
       "      <td>17</td>\n",
       "      <td>XGBoostPipeline</td>\n",
       "      <td>0.007614</td>\n",
       "      <td>False</td>\n",
       "      <td>{'eta': 0.264555612104627, 'min_child_weight':...</td>\n",
       "    </tr>\n",
       "    <tr>\n",
       "      <td>3</td>\n",
       "      <td>8</td>\n",
       "      <td>XGBoostPipeline</td>\n",
       "      <td>0.007614</td>\n",
       "      <td>False</td>\n",
       "      <td>{'eta': 0.6481718720511973, 'min_child_weight'...</td>\n",
       "    </tr>\n",
       "    <tr>\n",
       "      <td>4</td>\n",
       "      <td>16</td>\n",
       "      <td>RFClassificationPipeline</td>\n",
       "      <td>0.007614</td>\n",
       "      <td>False</td>\n",
       "      <td>{'n_estimators': 715, 'max_depth': 7, 'impute_...</td>\n",
       "    </tr>\n",
       "    <tr>\n",
       "      <td>5</td>\n",
       "      <td>0</td>\n",
       "      <td>XGBoostPipeline</td>\n",
       "      <td>0.007614</td>\n",
       "      <td>False</td>\n",
       "      <td>{'eta': 0.5928446182250184, 'min_child_weight'...</td>\n",
       "    </tr>\n",
       "    <tr>\n",
       "      <td>6</td>\n",
       "      <td>15</td>\n",
       "      <td>XGBoostPipeline</td>\n",
       "      <td>0.007614</td>\n",
       "      <td>False</td>\n",
       "      <td>{'eta': 0.7206326547259169, 'min_child_weight'...</td>\n",
       "    </tr>\n",
       "    <tr>\n",
       "      <td>7</td>\n",
       "      <td>1</td>\n",
       "      <td>XGBoostPipeline</td>\n",
       "      <td>0.007614</td>\n",
       "      <td>False</td>\n",
       "      <td>{'eta': 0.38438170729269994, 'min_child_weight...</td>\n",
       "    </tr>\n",
       "    <tr>\n",
       "      <td>8</td>\n",
       "      <td>19</td>\n",
       "      <td>XGBoostPipeline</td>\n",
       "      <td>0.007614</td>\n",
       "      <td>False</td>\n",
       "      <td>{'eta': 0.35950790057378607, 'min_child_weight...</td>\n",
       "    </tr>\n",
       "    <tr>\n",
       "      <td>9</td>\n",
       "      <td>13</td>\n",
       "      <td>XGBoostPipeline</td>\n",
       "      <td>0.007614</td>\n",
       "      <td>False</td>\n",
       "      <td>{'eta': 0.9786183422327642, 'min_child_weight'...</td>\n",
       "    </tr>\n",
       "    <tr>\n",
       "      <td>10</td>\n",
       "      <td>4</td>\n",
       "      <td>LogisticRegressionPipeline</td>\n",
       "      <td>0.007614</td>\n",
       "      <td>False</td>\n",
       "      <td>{'penalty': 'l2', 'C': 6.239401330891865, 'imp...</td>\n",
       "    </tr>\n",
       "    <tr>\n",
       "      <td>11</td>\n",
       "      <td>6</td>\n",
       "      <td>LogisticRegressionPipeline</td>\n",
       "      <td>0.007614</td>\n",
       "      <td>False</td>\n",
       "      <td>{'penalty': 'l2', 'C': 8.123565600467177, 'imp...</td>\n",
       "    </tr>\n",
       "    <tr>\n",
       "      <td>12</td>\n",
       "      <td>10</td>\n",
       "      <td>RFClassificationPipeline</td>\n",
       "      <td>0.007614</td>\n",
       "      <td>False</td>\n",
       "      <td>{'n_estimators': 369, 'max_depth': 10, 'impute...</td>\n",
       "    </tr>\n",
       "    <tr>\n",
       "      <td>13</td>\n",
       "      <td>12</td>\n",
       "      <td>LogisticRegressionPipeline</td>\n",
       "      <td>0.007615</td>\n",
       "      <td>False</td>\n",
       "      <td>{'penalty': 'l2', 'C': 8.702171711000782, 'imp...</td>\n",
       "    </tr>\n",
       "    <tr>\n",
       "      <td>14</td>\n",
       "      <td>2</td>\n",
       "      <td>LogisticRegressionPipeline</td>\n",
       "      <td>0.007615</td>\n",
       "      <td>False</td>\n",
       "      <td>{'penalty': 'l2', 'C': 8.444214828324364, 'imp...</td>\n",
       "    </tr>\n",
       "    <tr>\n",
       "      <td>15</td>\n",
       "      <td>3</td>\n",
       "      <td>XGBoostPipeline</td>\n",
       "      <td>0.007615</td>\n",
       "      <td>False</td>\n",
       "      <td>{'eta': 0.5288949197529046, 'min_child_weight'...</td>\n",
       "    </tr>\n",
       "    <tr>\n",
       "      <td>16</td>\n",
       "      <td>11</td>\n",
       "      <td>LogisticRegressionPipeline</td>\n",
       "      <td>0.007615</td>\n",
       "      <td>False</td>\n",
       "      <td>{'penalty': 'l2', 'C': 3.6887329830070748, 'im...</td>\n",
       "    </tr>\n",
       "    <tr>\n",
       "      <td>17</td>\n",
       "      <td>7</td>\n",
       "      <td>LogisticRegressionPipeline</td>\n",
       "      <td>0.007616</td>\n",
       "      <td>False</td>\n",
       "      <td>{'penalty': 'l2', 'C': 8.362426847738403, 'imp...</td>\n",
       "    </tr>\n",
       "    <tr>\n",
       "      <td>18</td>\n",
       "      <td>5</td>\n",
       "      <td>LogisticRegressionPipeline</td>\n",
       "      <td>0.007616</td>\n",
       "      <td>False</td>\n",
       "      <td>{'penalty': 'l2', 'C': 0.5765626434012575, 'im...</td>\n",
       "    </tr>\n",
       "    <tr>\n",
       "      <td>19</td>\n",
       "      <td>9</td>\n",
       "      <td>RFClassificationPipeline</td>\n",
       "      <td>0.007617</td>\n",
       "      <td>False</td>\n",
       "      <td>{'n_estimators': 569, 'max_depth': 22, 'impute...</td>\n",
       "    </tr>\n",
       "  </tbody>\n",
       "</table>\n",
       "</div>"
      ],
      "text/plain": [
       "    id               pipeline_name     score  high_variance_cv  \\\n",
       "0   18             XGBoostPipeline  0.007614             False   \n",
       "1   14    RFClassificationPipeline  0.007614             False   \n",
       "2   17             XGBoostPipeline  0.007614             False   \n",
       "3    8             XGBoostPipeline  0.007614             False   \n",
       "4   16    RFClassificationPipeline  0.007614             False   \n",
       "5    0             XGBoostPipeline  0.007614             False   \n",
       "6   15             XGBoostPipeline  0.007614             False   \n",
       "7    1             XGBoostPipeline  0.007614             False   \n",
       "8   19             XGBoostPipeline  0.007614             False   \n",
       "9   13             XGBoostPipeline  0.007614             False   \n",
       "10   4  LogisticRegressionPipeline  0.007614             False   \n",
       "11   6  LogisticRegressionPipeline  0.007614             False   \n",
       "12  10    RFClassificationPipeline  0.007614             False   \n",
       "13  12  LogisticRegressionPipeline  0.007615             False   \n",
       "14   2  LogisticRegressionPipeline  0.007615             False   \n",
       "15   3             XGBoostPipeline  0.007615             False   \n",
       "16  11  LogisticRegressionPipeline  0.007615             False   \n",
       "17   7  LogisticRegressionPipeline  0.007616             False   \n",
       "18   5  LogisticRegressionPipeline  0.007616             False   \n",
       "19   9    RFClassificationPipeline  0.007617             False   \n",
       "\n",
       "                                           parameters  \n",
       "0   {'eta': 0.1496748671836832, 'min_child_weight'...  \n",
       "1   {'n_estimators': 609, 'max_depth': 7, 'impute_...  \n",
       "2   {'eta': 0.264555612104627, 'min_child_weight':...  \n",
       "3   {'eta': 0.6481718720511973, 'min_child_weight'...  \n",
       "4   {'n_estimators': 715, 'max_depth': 7, 'impute_...  \n",
       "5   {'eta': 0.5928446182250184, 'min_child_weight'...  \n",
       "6   {'eta': 0.7206326547259169, 'min_child_weight'...  \n",
       "7   {'eta': 0.38438170729269994, 'min_child_weight...  \n",
       "8   {'eta': 0.35950790057378607, 'min_child_weight...  \n",
       "9   {'eta': 0.9786183422327642, 'min_child_weight'...  \n",
       "10  {'penalty': 'l2', 'C': 6.239401330891865, 'imp...  \n",
       "11  {'penalty': 'l2', 'C': 8.123565600467177, 'imp...  \n",
       "12  {'n_estimators': 369, 'max_depth': 10, 'impute...  \n",
       "13  {'penalty': 'l2', 'C': 8.702171711000782, 'imp...  \n",
       "14  {'penalty': 'l2', 'C': 8.444214828324364, 'imp...  \n",
       "15  {'eta': 0.5288949197529046, 'min_child_weight'...  \n",
       "16  {'penalty': 'l2', 'C': 3.6887329830070748, 'im...  \n",
       "17  {'penalty': 'l2', 'C': 8.362426847738403, 'imp...  \n",
       "18  {'penalty': 'l2', 'C': 0.5765626434012575, 'im...  \n",
       "19  {'n_estimators': 569, 'max_depth': 22, 'impute...  "
      ]
     },
     "execution_count": 6,
     "metadata": {},
     "output_type": "execute_result"
    }
   ],
   "source": [
    "clf.rankings"
   ]
  },
  {
   "cell_type": "markdown",
   "metadata": {},
   "source": [
    "to select the best pipeline we can run"
   ]
  },
  {
   "cell_type": "code",
   "execution_count": 7,
   "metadata": {},
   "outputs": [],
   "source": [
    "pipeline = clf.best_pipeline"
   ]
  },
  {
   "cell_type": "markdown",
   "metadata": {},
   "source": [
    "to select another pipeline we can use the id"
   ]
  },
  {
   "cell_type": "code",
   "execution_count": 8,
   "metadata": {},
   "outputs": [],
   "source": [
    "pipeline = clf.get_pipeline(0)"
   ]
  },
  {
   "cell_type": "markdown",
   "metadata": {},
   "source": [
    "### Describe pipeline\n",
    "\n",
    "You can get more details about any pipeline. Including "
   ]
  },
  {
   "cell_type": "code",
   "execution_count": 9,
   "metadata": {},
   "outputs": [
    {
     "name": "stdout",
     "output_type": "stream",
     "text": [
      "\u001b[1m************************\u001b[0m\n",
      "\u001b[1m* Pipeline Description *\u001b[0m\n",
      "\u001b[1m************************\u001b[0m\n",
      "\n",
      "Pipeline Name: XGBoost w/ imputation\n",
      "Model type: xgboost\n",
      "Objective: Fraud Cost (lower is better)\n",
      "Total training time (including CV): 4.0 seconds\n",
      "\n",
      "Parameters\n",
      "==========\n",
      "• eta: 0.5928446182250184\n",
      "• min_child_weight: 8.598391737229157\n",
      "• max_depth: 4\n",
      "• impute_strategy: most_frequent\n",
      "• percent_features: 0.6273280598181127\n",
      "\n",
      "Cross Validation\n",
      "=================\n",
      "               F1  Precision  Recall   AUC  Log Loss  Fraud Cost # Training # Testing\n",
      "0           0.264      0.152   0.264 0.856     0.188       0.008  13332.000  6666.000\n",
      "1           0.264      0.152   0.264 0.844     0.190       0.008  13332.000  6666.000\n",
      "2           0.264      0.152   0.264 0.836     0.198       0.008  13332.000  6666.000\n",
      "mean        0.264      0.152   0.264 0.845     0.192       0.008          -         -\n",
      "std         0.000      0.000   0.000 0.010     0.006       0.000          -         -\n",
      "coef of var 0.000      0.000   0.000 0.012     0.030       0.002          -         -\n"
     ]
    }
   ],
   "source": [
    "clf.describe_pipeline(0)"
   ]
  },
  {
   "cell_type": "code",
   "execution_count": null,
   "metadata": {},
   "outputs": [],
   "source": []
  }
 ],
 "metadata": {
  "kernelspec": {
   "display_name": "Python 3",
   "language": "python",
   "name": "python3"
  },
  "language_info": {
   "codemirror_mode": {
    "name": "ipython",
    "version": 3
   },
   "file_extension": ".py",
   "mimetype": "text/x-python",
   "name": "python",
   "nbconvert_exporter": "python",
   "pygments_lexer": "ipython3",
   "version": "3.6.8"
  }
 },
 "nbformat": 4,
 "nbformat_minor": 2
}
